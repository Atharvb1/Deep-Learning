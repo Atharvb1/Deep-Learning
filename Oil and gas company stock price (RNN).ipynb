{
 "cells": [
  {
   "cell_type": "markdown",
   "id": "ffe56e36",
   "metadata": {},
   "source": [
    "# Recurrent Neural Network"
   ]
  },
  {
   "cell_type": "markdown",
   "id": "16d77524",
   "metadata": {},
   "source": [
    "## Part 1 - Data Preprocessing"
   ]
  },
  {
   "cell_type": "markdown",
   "id": "e1da4034",
   "metadata": {},
   "source": [
    "### Importing the libraries"
   ]
  },
  {
   "cell_type": "code",
   "execution_count": 49,
   "id": "24cc40a4",
   "metadata": {},
   "outputs": [],
   "source": [
    "import pandas as pd\n",
    "import numpy as np\n",
    "import matplotlib.pyplot as plt"
   ]
  },
  {
   "cell_type": "markdown",
   "id": "bec21bab",
   "metadata": {},
   "source": [
    "### Importing the Dataset"
   ]
  },
  {
   "cell_type": "code",
   "execution_count": 50,
   "id": "35ed4ee1",
   "metadata": {},
   "outputs": [],
   "source": [
    "dataset = pd.read_csv('oil and gas stock prices.csv')"
   ]
  },
  {
   "cell_type": "code",
   "execution_count": 51,
   "id": "6bc9806f",
   "metadata": {
    "scrolled": true
   },
   "outputs": [
    {
     "data": {
      "text/html": [
       "<div>\n",
       "<style scoped>\n",
       "    .dataframe tbody tr th:only-of-type {\n",
       "        vertical-align: middle;\n",
       "    }\n",
       "\n",
       "    .dataframe tbody tr th {\n",
       "        vertical-align: top;\n",
       "    }\n",
       "\n",
       "    .dataframe thead th {\n",
       "        text-align: right;\n",
       "    }\n",
       "</style>\n",
       "<table border=\"1\" class=\"dataframe\">\n",
       "  <thead>\n",
       "    <tr style=\"text-align: right;\">\n",
       "      <th></th>\n",
       "      <th>Date</th>\n",
       "      <th>Symbol</th>\n",
       "      <th>Open</th>\n",
       "      <th>High</th>\n",
       "      <th>Low</th>\n",
       "      <th>Close</th>\n",
       "      <th>Volume</th>\n",
       "      <th>Currency</th>\n",
       "    </tr>\n",
       "  </thead>\n",
       "  <tbody>\n",
       "    <tr>\n",
       "      <th>0</th>\n",
       "      <td>2000-01-03</td>\n",
       "      <td>XOM</td>\n",
       "      <td>39.75</td>\n",
       "      <td>40.38</td>\n",
       "      <td>38.94</td>\n",
       "      <td>39.16</td>\n",
       "      <td>13458200</td>\n",
       "      <td>USD</td>\n",
       "    </tr>\n",
       "    <tr>\n",
       "      <th>1</th>\n",
       "      <td>2000-01-04</td>\n",
       "      <td>XOM</td>\n",
       "      <td>38.69</td>\n",
       "      <td>39.09</td>\n",
       "      <td>38.25</td>\n",
       "      <td>38.41</td>\n",
       "      <td>14510800</td>\n",
       "      <td>USD</td>\n",
       "    </tr>\n",
       "    <tr>\n",
       "      <th>2</th>\n",
       "      <td>2000-01-05</td>\n",
       "      <td>XOM</td>\n",
       "      <td>39.00</td>\n",
       "      <td>40.88</td>\n",
       "      <td>38.91</td>\n",
       "      <td>40.50</td>\n",
       "      <td>17485000</td>\n",
       "      <td>USD</td>\n",
       "    </tr>\n",
       "    <tr>\n",
       "      <th>3</th>\n",
       "      <td>2000-01-06</td>\n",
       "      <td>XOM</td>\n",
       "      <td>40.31</td>\n",
       "      <td>42.91</td>\n",
       "      <td>40.09</td>\n",
       "      <td>42.59</td>\n",
       "      <td>19462000</td>\n",
       "      <td>USD</td>\n",
       "    </tr>\n",
       "    <tr>\n",
       "      <th>4</th>\n",
       "      <td>2000-01-07</td>\n",
       "      <td>XOM</td>\n",
       "      <td>42.97</td>\n",
       "      <td>43.12</td>\n",
       "      <td>42.00</td>\n",
       "      <td>42.47</td>\n",
       "      <td>16603800</td>\n",
       "      <td>USD</td>\n",
       "    </tr>\n",
       "    <tr>\n",
       "      <th>...</th>\n",
       "      <td>...</td>\n",
       "      <td>...</td>\n",
       "      <td>...</td>\n",
       "      <td>...</td>\n",
       "      <td>...</td>\n",
       "      <td>...</td>\n",
       "      <td>...</td>\n",
       "      <td>...</td>\n",
       "    </tr>\n",
       "    <tr>\n",
       "      <th>39196</th>\n",
       "      <td>2022-06-06</td>\n",
       "      <td>SLB</td>\n",
       "      <td>47.79</td>\n",
       "      <td>48.00</td>\n",
       "      <td>46.88</td>\n",
       "      <td>47.22</td>\n",
       "      <td>6696970</td>\n",
       "      <td>USD</td>\n",
       "    </tr>\n",
       "    <tr>\n",
       "      <th>39197</th>\n",
       "      <td>2022-06-07</td>\n",
       "      <td>SLB</td>\n",
       "      <td>47.00</td>\n",
       "      <td>49.08</td>\n",
       "      <td>46.87</td>\n",
       "      <td>48.93</td>\n",
       "      <td>14692203</td>\n",
       "      <td>USD</td>\n",
       "    </tr>\n",
       "    <tr>\n",
       "      <th>39198</th>\n",
       "      <td>2022-06-08</td>\n",
       "      <td>SLB</td>\n",
       "      <td>49.00</td>\n",
       "      <td>49.83</td>\n",
       "      <td>48.08</td>\n",
       "      <td>49.57</td>\n",
       "      <td>15067131</td>\n",
       "      <td>USD</td>\n",
       "    </tr>\n",
       "    <tr>\n",
       "      <th>39199</th>\n",
       "      <td>2022-06-09</td>\n",
       "      <td>SLB</td>\n",
       "      <td>48.79</td>\n",
       "      <td>49.16</td>\n",
       "      <td>48.10</td>\n",
       "      <td>48.14</td>\n",
       "      <td>11447491</td>\n",
       "      <td>USD</td>\n",
       "    </tr>\n",
       "    <tr>\n",
       "      <th>39200</th>\n",
       "      <td>2022-06-10</td>\n",
       "      <td>SLB</td>\n",
       "      <td>47.17</td>\n",
       "      <td>47.88</td>\n",
       "      <td>46.52</td>\n",
       "      <td>47.21</td>\n",
       "      <td>11291267</td>\n",
       "      <td>USD</td>\n",
       "    </tr>\n",
       "  </tbody>\n",
       "</table>\n",
       "<p>39201 rows × 8 columns</p>\n",
       "</div>"
      ],
      "text/plain": [
       "             Date Symbol   Open   High    Low  Close    Volume Currency\n",
       "0      2000-01-03    XOM  39.75  40.38  38.94  39.16  13458200      USD\n",
       "1      2000-01-04    XOM  38.69  39.09  38.25  38.41  14510800      USD\n",
       "2      2000-01-05    XOM  39.00  40.88  38.91  40.50  17485000      USD\n",
       "3      2000-01-06    XOM  40.31  42.91  40.09  42.59  19462000      USD\n",
       "4      2000-01-07    XOM  42.97  43.12  42.00  42.47  16603800      USD\n",
       "...           ...    ...    ...    ...    ...    ...       ...      ...\n",
       "39196  2022-06-06    SLB  47.79  48.00  46.88  47.22   6696970      USD\n",
       "39197  2022-06-07    SLB  47.00  49.08  46.87  48.93  14692203      USD\n",
       "39198  2022-06-08    SLB  49.00  49.83  48.08  49.57  15067131      USD\n",
       "39199  2022-06-09    SLB  48.79  49.16  48.10  48.14  11447491      USD\n",
       "39200  2022-06-10    SLB  47.17  47.88  46.52  47.21  11291267      USD\n",
       "\n",
       "[39201 rows x 8 columns]"
      ]
     },
     "execution_count": 51,
     "metadata": {},
     "output_type": "execute_result"
    }
   ],
   "source": [
    "dataset"
   ]
  },
  {
   "cell_type": "markdown",
   "id": "59126ba2",
   "metadata": {},
   "source": [
    "### Checking for distinct values in each column."
   ]
  },
  {
   "cell_type": "code",
   "execution_count": 52,
   "id": "0839d70e",
   "metadata": {
    "scrolled": true
   },
   "outputs": [
    {
     "data": {
      "text/plain": [
       "Date         5647\n",
       "Symbol          8\n",
       "Open        10964\n",
       "High        11013\n",
       "Low         10906\n",
       "Close       11066\n",
       "Volume      38380\n",
       "Currency        1\n",
       "dtype: int64"
      ]
     },
     "execution_count": 52,
     "metadata": {},
     "output_type": "execute_result"
    }
   ],
   "source": [
    "dataset.nunique()"
   ]
  },
  {
   "cell_type": "markdown",
   "id": "d302ac87",
   "metadata": {},
   "source": [
    "#### Here we have data of 8 different oil and gas company. We are going to train RNN model only on 1 comapie's data."
   ]
  },
  {
   "cell_type": "markdown",
   "id": "d5d50769",
   "metadata": {},
   "source": [
    "#### Droping 7 companie's data."
   ]
  },
  {
   "cell_type": "code",
   "execution_count": 53,
   "id": "d495574d",
   "metadata": {},
   "outputs": [],
   "source": [
    "df1=dataset[dataset[\"Symbol\"]=='XOM']"
   ]
  },
  {
   "cell_type": "code",
   "execution_count": 54,
   "id": "b7c33f07",
   "metadata": {
    "scrolled": false
   },
   "outputs": [
    {
     "data": {
      "text/html": [
       "<div>\n",
       "<style scoped>\n",
       "    .dataframe tbody tr th:only-of-type {\n",
       "        vertical-align: middle;\n",
       "    }\n",
       "\n",
       "    .dataframe tbody tr th {\n",
       "        vertical-align: top;\n",
       "    }\n",
       "\n",
       "    .dataframe thead th {\n",
       "        text-align: right;\n",
       "    }\n",
       "</style>\n",
       "<table border=\"1\" class=\"dataframe\">\n",
       "  <thead>\n",
       "    <tr style=\"text-align: right;\">\n",
       "      <th></th>\n",
       "      <th>Date</th>\n",
       "      <th>Symbol</th>\n",
       "      <th>Open</th>\n",
       "      <th>High</th>\n",
       "      <th>Low</th>\n",
       "      <th>Close</th>\n",
       "      <th>Volume</th>\n",
       "      <th>Currency</th>\n",
       "    </tr>\n",
       "  </thead>\n",
       "  <tbody>\n",
       "    <tr>\n",
       "      <th>0</th>\n",
       "      <td>2000-01-03</td>\n",
       "      <td>XOM</td>\n",
       "      <td>39.75</td>\n",
       "      <td>40.38</td>\n",
       "      <td>38.94</td>\n",
       "      <td>39.16</td>\n",
       "      <td>13458200</td>\n",
       "      <td>USD</td>\n",
       "    </tr>\n",
       "    <tr>\n",
       "      <th>1</th>\n",
       "      <td>2000-01-04</td>\n",
       "      <td>XOM</td>\n",
       "      <td>38.69</td>\n",
       "      <td>39.09</td>\n",
       "      <td>38.25</td>\n",
       "      <td>38.41</td>\n",
       "      <td>14510800</td>\n",
       "      <td>USD</td>\n",
       "    </tr>\n",
       "    <tr>\n",
       "      <th>2</th>\n",
       "      <td>2000-01-05</td>\n",
       "      <td>XOM</td>\n",
       "      <td>39.00</td>\n",
       "      <td>40.88</td>\n",
       "      <td>38.91</td>\n",
       "      <td>40.50</td>\n",
       "      <td>17485000</td>\n",
       "      <td>USD</td>\n",
       "    </tr>\n",
       "    <tr>\n",
       "      <th>3</th>\n",
       "      <td>2000-01-06</td>\n",
       "      <td>XOM</td>\n",
       "      <td>40.31</td>\n",
       "      <td>42.91</td>\n",
       "      <td>40.09</td>\n",
       "      <td>42.59</td>\n",
       "      <td>19462000</td>\n",
       "      <td>USD</td>\n",
       "    </tr>\n",
       "    <tr>\n",
       "      <th>4</th>\n",
       "      <td>2000-01-07</td>\n",
       "      <td>XOM</td>\n",
       "      <td>42.97</td>\n",
       "      <td>43.12</td>\n",
       "      <td>42.00</td>\n",
       "      <td>42.47</td>\n",
       "      <td>16603800</td>\n",
       "      <td>USD</td>\n",
       "    </tr>\n",
       "    <tr>\n",
       "      <th>...</th>\n",
       "      <td>...</td>\n",
       "      <td>...</td>\n",
       "      <td>...</td>\n",
       "      <td>...</td>\n",
       "      <td>...</td>\n",
       "      <td>...</td>\n",
       "      <td>...</td>\n",
       "      <td>...</td>\n",
       "    </tr>\n",
       "    <tr>\n",
       "      <th>5642</th>\n",
       "      <td>2022-06-06</td>\n",
       "      <td>XOM</td>\n",
       "      <td>99.18</td>\n",
       "      <td>99.78</td>\n",
       "      <td>98.67</td>\n",
       "      <td>98.84</td>\n",
       "      <td>20682050</td>\n",
       "      <td>USD</td>\n",
       "    </tr>\n",
       "    <tr>\n",
       "      <th>5643</th>\n",
       "      <td>2022-06-07</td>\n",
       "      <td>XOM</td>\n",
       "      <td>99.70</td>\n",
       "      <td>103.43</td>\n",
       "      <td>99.49</td>\n",
       "      <td>103.37</td>\n",
       "      <td>36994384</td>\n",
       "      <td>USD</td>\n",
       "    </tr>\n",
       "    <tr>\n",
       "      <th>5644</th>\n",
       "      <td>2022-06-08</td>\n",
       "      <td>XOM</td>\n",
       "      <td>103.49</td>\n",
       "      <td>105.57</td>\n",
       "      <td>102.98</td>\n",
       "      <td>104.59</td>\n",
       "      <td>31442508</td>\n",
       "      <td>USD</td>\n",
       "    </tr>\n",
       "    <tr>\n",
       "      <th>5645</th>\n",
       "      <td>2022-06-09</td>\n",
       "      <td>XOM</td>\n",
       "      <td>103.42</td>\n",
       "      <td>104.57</td>\n",
       "      <td>102.16</td>\n",
       "      <td>102.33</td>\n",
       "      <td>26417288</td>\n",
       "      <td>USD</td>\n",
       "    </tr>\n",
       "    <tr>\n",
       "      <th>5646</th>\n",
       "      <td>2022-06-10</td>\n",
       "      <td>XOM</td>\n",
       "      <td>101.94</td>\n",
       "      <td>103.35</td>\n",
       "      <td>99.79</td>\n",
       "      <td>100.46</td>\n",
       "      <td>30764130</td>\n",
       "      <td>USD</td>\n",
       "    </tr>\n",
       "  </tbody>\n",
       "</table>\n",
       "<p>5647 rows × 8 columns</p>\n",
       "</div>"
      ],
      "text/plain": [
       "            Date Symbol    Open    High     Low   Close    Volume Currency\n",
       "0     2000-01-03    XOM   39.75   40.38   38.94   39.16  13458200      USD\n",
       "1     2000-01-04    XOM   38.69   39.09   38.25   38.41  14510800      USD\n",
       "2     2000-01-05    XOM   39.00   40.88   38.91   40.50  17485000      USD\n",
       "3     2000-01-06    XOM   40.31   42.91   40.09   42.59  19462000      USD\n",
       "4     2000-01-07    XOM   42.97   43.12   42.00   42.47  16603800      USD\n",
       "...          ...    ...     ...     ...     ...     ...       ...      ...\n",
       "5642  2022-06-06    XOM   99.18   99.78   98.67   98.84  20682050      USD\n",
       "5643  2022-06-07    XOM   99.70  103.43   99.49  103.37  36994384      USD\n",
       "5644  2022-06-08    XOM  103.49  105.57  102.98  104.59  31442508      USD\n",
       "5645  2022-06-09    XOM  103.42  104.57  102.16  102.33  26417288      USD\n",
       "5646  2022-06-10    XOM  101.94  103.35   99.79  100.46  30764130      USD\n",
       "\n",
       "[5647 rows x 8 columns]"
      ]
     },
     "execution_count": 54,
     "metadata": {},
     "output_type": "execute_result"
    }
   ],
   "source": [
    "df1"
   ]
  },
  {
   "cell_type": "markdown",
   "id": "930513af",
   "metadata": {},
   "source": [
    "### Checking for duplicate values"
   ]
  },
  {
   "cell_type": "code",
   "execution_count": 55,
   "id": "3427b508",
   "metadata": {},
   "outputs": [
    {
     "data": {
      "text/plain": [
       "0"
      ]
     },
     "execution_count": 55,
     "metadata": {},
     "output_type": "execute_result"
    }
   ],
   "source": [
    "df1.duplicated().sum()"
   ]
  },
  {
   "cell_type": "markdown",
   "id": "ae031288",
   "metadata": {},
   "source": [
    "### Checking for null values"
   ]
  },
  {
   "cell_type": "code",
   "execution_count": 56,
   "id": "6abf8f53",
   "metadata": {},
   "outputs": [
    {
     "data": {
      "text/plain": [
       "Date        0\n",
       "Symbol      0\n",
       "Open        0\n",
       "High        0\n",
       "Low         0\n",
       "Close       0\n",
       "Volume      0\n",
       "Currency    0\n",
       "dtype: int64"
      ]
     },
     "execution_count": 56,
     "metadata": {},
     "output_type": "execute_result"
    }
   ],
   "source": [
    "df1.isnull().sum()"
   ]
  },
  {
   "cell_type": "code",
   "execution_count": 57,
   "id": "99294b1e",
   "metadata": {},
   "outputs": [
    {
     "data": {
      "text/html": [
       "<div>\n",
       "<style scoped>\n",
       "    .dataframe tbody tr th:only-of-type {\n",
       "        vertical-align: middle;\n",
       "    }\n",
       "\n",
       "    .dataframe tbody tr th {\n",
       "        vertical-align: top;\n",
       "    }\n",
       "\n",
       "    .dataframe thead th {\n",
       "        text-align: right;\n",
       "    }\n",
       "</style>\n",
       "<table border=\"1\" class=\"dataframe\">\n",
       "  <thead>\n",
       "    <tr style=\"text-align: right;\">\n",
       "      <th></th>\n",
       "      <th>Open</th>\n",
       "      <th>High</th>\n",
       "      <th>Low</th>\n",
       "      <th>Close</th>\n",
       "      <th>Volume</th>\n",
       "    </tr>\n",
       "  </thead>\n",
       "  <tbody>\n",
       "    <tr>\n",
       "      <th>count</th>\n",
       "      <td>5647.000000</td>\n",
       "      <td>5647.000000</td>\n",
       "      <td>5647.000000</td>\n",
       "      <td>5647.000000</td>\n",
       "      <td>5.647000e+03</td>\n",
       "    </tr>\n",
       "    <tr>\n",
       "      <th>mean</th>\n",
       "      <td>67.941806</td>\n",
       "      <td>68.568870</td>\n",
       "      <td>67.318438</td>\n",
       "      <td>67.964041</td>\n",
       "      <td>1.790278e+07</td>\n",
       "    </tr>\n",
       "    <tr>\n",
       "      <th>std</th>\n",
       "      <td>19.390072</td>\n",
       "      <td>19.475525</td>\n",
       "      <td>19.309826</td>\n",
       "      <td>19.410198</td>\n",
       "      <td>1.021927e+07</td>\n",
       "    </tr>\n",
       "    <tr>\n",
       "      <th>min</th>\n",
       "      <td>30.700000</td>\n",
       "      <td>31.250000</td>\n",
       "      <td>29.750000</td>\n",
       "      <td>30.270000</td>\n",
       "      <td>3.851283e+06</td>\n",
       "    </tr>\n",
       "    <tr>\n",
       "      <th>25%</th>\n",
       "      <td>48.450000</td>\n",
       "      <td>48.970000</td>\n",
       "      <td>48.000000</td>\n",
       "      <td>48.395000</td>\n",
       "      <td>1.084503e+07</td>\n",
       "    </tr>\n",
       "    <tr>\n",
       "      <th>50%</th>\n",
       "      <td>72.050000</td>\n",
       "      <td>72.850000</td>\n",
       "      <td>71.330000</td>\n",
       "      <td>72.080000</td>\n",
       "      <td>1.488288e+07</td>\n",
       "    </tr>\n",
       "    <tr>\n",
       "      <th>75%</th>\n",
       "      <td>83.895000</td>\n",
       "      <td>84.660000</td>\n",
       "      <td>83.255000</td>\n",
       "      <td>83.980000</td>\n",
       "      <td>2.191033e+07</td>\n",
       "    </tr>\n",
       "    <tr>\n",
       "      <th>max</th>\n",
       "      <td>104.420000</td>\n",
       "      <td>105.570000</td>\n",
       "      <td>103.950000</td>\n",
       "      <td>104.590000</td>\n",
       "      <td>1.180235e+08</td>\n",
       "    </tr>\n",
       "  </tbody>\n",
       "</table>\n",
       "</div>"
      ],
      "text/plain": [
       "              Open         High          Low        Close        Volume\n",
       "count  5647.000000  5647.000000  5647.000000  5647.000000  5.647000e+03\n",
       "mean     67.941806    68.568870    67.318438    67.964041  1.790278e+07\n",
       "std      19.390072    19.475525    19.309826    19.410198  1.021927e+07\n",
       "min      30.700000    31.250000    29.750000    30.270000  3.851283e+06\n",
       "25%      48.450000    48.970000    48.000000    48.395000  1.084503e+07\n",
       "50%      72.050000    72.850000    71.330000    72.080000  1.488288e+07\n",
       "75%      83.895000    84.660000    83.255000    83.980000  2.191033e+07\n",
       "max     104.420000   105.570000   103.950000   104.590000  1.180235e+08"
      ]
     },
     "execution_count": 57,
     "metadata": {},
     "output_type": "execute_result"
    }
   ],
   "source": [
    "df1.describe()"
   ]
  },
  {
   "cell_type": "markdown",
   "id": "18780dfc",
   "metadata": {},
   "source": [
    "### We are going to train RNN on closing price. So droping remaining columns"
   ]
  },
  {
   "cell_type": "code",
   "execution_count": 58,
   "id": "5e977251",
   "metadata": {},
   "outputs": [
    {
     "data": {
      "text/html": [
       "<div>\n",
       "<style scoped>\n",
       "    .dataframe tbody tr th:only-of-type {\n",
       "        vertical-align: middle;\n",
       "    }\n",
       "\n",
       "    .dataframe tbody tr th {\n",
       "        vertical-align: top;\n",
       "    }\n",
       "\n",
       "    .dataframe thead th {\n",
       "        text-align: right;\n",
       "    }\n",
       "</style>\n",
       "<table border=\"1\" class=\"dataframe\">\n",
       "  <thead>\n",
       "    <tr style=\"text-align: right;\">\n",
       "      <th></th>\n",
       "      <th>Close</th>\n",
       "    </tr>\n",
       "  </thead>\n",
       "  <tbody>\n",
       "    <tr>\n",
       "      <th>0</th>\n",
       "      <td>39.16</td>\n",
       "    </tr>\n",
       "    <tr>\n",
       "      <th>1</th>\n",
       "      <td>38.41</td>\n",
       "    </tr>\n",
       "    <tr>\n",
       "      <th>2</th>\n",
       "      <td>40.50</td>\n",
       "    </tr>\n",
       "    <tr>\n",
       "      <th>3</th>\n",
       "      <td>42.59</td>\n",
       "    </tr>\n",
       "    <tr>\n",
       "      <th>4</th>\n",
       "      <td>42.47</td>\n",
       "    </tr>\n",
       "    <tr>\n",
       "      <th>...</th>\n",
       "      <td>...</td>\n",
       "    </tr>\n",
       "    <tr>\n",
       "      <th>5642</th>\n",
       "      <td>98.84</td>\n",
       "    </tr>\n",
       "    <tr>\n",
       "      <th>5643</th>\n",
       "      <td>103.37</td>\n",
       "    </tr>\n",
       "    <tr>\n",
       "      <th>5644</th>\n",
       "      <td>104.59</td>\n",
       "    </tr>\n",
       "    <tr>\n",
       "      <th>5645</th>\n",
       "      <td>102.33</td>\n",
       "    </tr>\n",
       "    <tr>\n",
       "      <th>5646</th>\n",
       "      <td>100.46</td>\n",
       "    </tr>\n",
       "  </tbody>\n",
       "</table>\n",
       "<p>5647 rows × 1 columns</p>\n",
       "</div>"
      ],
      "text/plain": [
       "       Close\n",
       "0      39.16\n",
       "1      38.41\n",
       "2      40.50\n",
       "3      42.59\n",
       "4      42.47\n",
       "...      ...\n",
       "5642   98.84\n",
       "5643  103.37\n",
       "5644  104.59\n",
       "5645  102.33\n",
       "5646  100.46\n",
       "\n",
       "[5647 rows x 1 columns]"
      ]
     },
     "execution_count": 58,
     "metadata": {},
     "output_type": "execute_result"
    }
   ],
   "source": [
    "df1=df1.iloc[:,5:6]\n",
    "df1"
   ]
  },
  {
   "cell_type": "code",
   "execution_count": 60,
   "id": "924e319b",
   "metadata": {
    "scrolled": true
   },
   "outputs": [
    {
     "data": {
      "text/plain": [
       "[<matplotlib.lines.Line2D at 0x295116f7f10>]"
      ]
     },
     "execution_count": 60,
     "metadata": {},
     "output_type": "execute_result"
    },
    {
     "data": {
      "image/png": "[encoded data removed]",
      "text/plain": [
       "<Figure size 432x288 with 1 Axes>"
      ]
     },
     "metadata": {
      "needs_background": "light"
     },
     "output_type": "display_data"
    }
   ],
   "source": [
    "import matplotlib.pyplot as plt\n",
    "plt.plot(df1)"
   ]
  },
  {
   "cell_type": "markdown",
   "id": "e580e66c",
   "metadata": {},
   "source": [
    "### Feature Scaling"
   ]
  },
  {
   "cell_type": "code",
   "execution_count": 61,
   "id": "d050973d",
   "metadata": {},
   "outputs": [],
   "source": [
    "from sklearn.preprocessing import MinMaxScaler\n",
    "scaler=MinMaxScaler(feature_range=(0,1))\n",
    "df1=scaler.fit_transform(np.array(df1).reshape(-1,1))"
   ]
  },
  {
   "cell_type": "markdown",
   "id": "2624bc2d",
   "metadata": {},
   "source": [
    "### Splitting data into training and testing set"
   ]
  },
  {
   "cell_type": "code",
   "execution_count": 62,
   "id": "378d5d47",
   "metadata": {},
   "outputs": [],
   "source": [
    "training_size=int(len(df1)*0.65)\n",
    "test_size=len(df1)-training_size"
   ]
  },
  {
   "cell_type": "markdown",
   "id": "f059b55a",
   "metadata": {},
   "source": [
    "### Reshaping"
   ]
  },
  {
   "cell_type": "code",
   "execution_count": 63,
   "id": "a4f00f4a",
   "metadata": {},
   "outputs": [],
   "source": [
    "train_data,test_data=df1[0:training_size,:],df1[training_size:len(df1),:1]"
   ]
  },
  {
   "cell_type": "code",
   "execution_count": 64,
   "id": "804837f8",
   "metadata": {},
   "outputs": [
    {
     "data": {
      "text/plain": [
       "(3670, 1977)"
      ]
     },
     "execution_count": 64,
     "metadata": {},
     "output_type": "execute_result"
    }
   ],
   "source": [
    "training_size,test_size"
   ]
  },
  {
   "cell_type": "code",
   "execution_count": 65,
   "id": "e4d1e420",
   "metadata": {},
   "outputs": [
    {
     "data": {
      "text/plain": [
       "array([[0.11961787],\n",
       "       [0.10952637],\n",
       "       [0.13764801],\n",
       "       ...,\n",
       "       [0.92209365],\n",
       "       [0.93998924],\n",
       "       [0.91402045]])"
      ]
     },
     "execution_count": 65,
     "metadata": {},
     "output_type": "execute_result"
    }
   ],
   "source": [
    "train_data"
   ]
  },
  {
   "cell_type": "markdown",
   "id": "b241c7bc",
   "metadata": {},
   "source": [
    "### Creating a data structure with 100 timesteps and 1 output"
   ]
  },
  {
   "cell_type": "code",
   "execution_count": 66,
   "id": "0933ea2b",
   "metadata": {},
   "outputs": [],
   "source": [
    "# convert an array of values into a dataset matrix\n",
    "def create_dataset(dataset, time_step=1):\n",
    "    dataX, dataY = [], []\n",
    "    for i in range(len(dataset)-time_step-1):\n",
    "        a = dataset[i:(i+time_step), 0]   ###i=0, 0,1,2,3-----99   100 \n",
    "        dataX.append(a)\n",
    "        dataY.append(dataset[i + time_step, 0])\n",
    "    return np.array(dataX), np.array(dataY)"
   ]
  },
  {
   "cell_type": "code",
   "execution_count": 67,
   "id": "0b08d0b8",
   "metadata": {},
   "outputs": [],
   "source": [
    "# reshape into X=t,t+1,t+2,t+3 and Y=t+4\n",
    "time_step = 100\n",
    "X_train, y_train = create_dataset(train_data, time_step)\n",
    "X_test, ytest = create_dataset(test_data, time_step)"
   ]
  },
  {
   "cell_type": "code",
   "execution_count": 68,
   "id": "4d564c50",
   "metadata": {},
   "outputs": [
    {
     "name": "stdout",
     "output_type": "stream",
     "text": [
      "(3569, 100)\n",
      "(3569,)\n"
     ]
    },
    {
     "data": {
      "text/plain": [
       "(None, None)"
      ]
     },
     "execution_count": 68,
     "metadata": {},
     "output_type": "execute_result"
    }
   ],
   "source": [
    "print(X_train.shape), print(y_train.shape)"
   ]
  },
  {
   "cell_type": "code",
   "execution_count": 69,
   "id": "a7d57779",
   "metadata": {},
   "outputs": [
    {
     "name": "stdout",
     "output_type": "stream",
     "text": [
      "(1876, 100)\n",
      "(1876,)\n"
     ]
    },
    {
     "data": {
      "text/plain": [
       "(None, None)"
      ]
     },
     "execution_count": 69,
     "metadata": {},
     "output_type": "execute_result"
    }
   ],
   "source": [
    "print(X_test.shape), print(ytest.shape)"
   ]
  },
  {
   "cell_type": "code",
   "execution_count": 71,
   "id": "028bd4cc",
   "metadata": {},
   "outputs": [
    {
     "data": {
      "text/plain": [
       "array([[0.11961787, 0.10952637, 0.13764801, ..., 0.15325619, 0.15110334,\n",
       "        0.15069968],\n",
       "       [0.10952637, 0.13764801, 0.16576964, ..., 0.15110334, 0.15069968,\n",
       "        0.14060818],\n",
       "       [0.13764801, 0.16576964, 0.16415501, ..., 0.15069968, 0.14060818,\n",
       "        0.14693219],\n",
       "       ...,\n",
       "       [0.87769107, 0.85764263, 0.86033369, ..., 0.99703983, 0.98600646,\n",
       "        0.98196986],\n",
       "       [0.85764263, 0.86033369, 0.85266416, ..., 0.98600646, 0.98196986,\n",
       "        0.9239774 ],\n",
       "       [0.86033369, 0.85266416, 0.85037675, ..., 0.98196986, 0.9239774 ,\n",
       "        0.92209365]])"
      ]
     },
     "execution_count": 71,
     "metadata": {},
     "output_type": "execute_result"
    }
   ],
   "source": [
    "X_train"
   ]
  },
  {
   "cell_type": "code",
   "execution_count": 72,
   "id": "c3e84f24",
   "metadata": {},
   "outputs": [
    {
     "data": {
      "text/plain": [
       "array([[0.92451561, 0.91496233, 0.93474166, ..., 0.86544672, 0.8545479 ,\n",
       "        0.84687836],\n",
       "       [0.91496233, 0.93474166, 0.92115178, ..., 0.8545479 , 0.84687836,\n",
       "        0.84499462],\n",
       "       [0.93474166, 0.92115178, 0.9179225 , ..., 0.84687836, 0.84499462,\n",
       "        0.84432185],\n",
       "       ...,\n",
       "       [0.54991927, 0.54305705, 0.55974166, ..., 0.90688913, 0.92599569,\n",
       "        0.92263186],\n",
       "       [0.54305705, 0.55974166, 0.5760226 , ..., 0.92599569, 0.92263186,\n",
       "        0.9835845 ],\n",
       "       [0.55974166, 0.5760226 , 0.57642626, ..., 0.92263186, 0.9835845 ,\n",
       "        1.        ]])"
      ]
     },
     "execution_count": 72,
     "metadata": {},
     "output_type": "execute_result"
    }
   ],
   "source": [
    "X_test"
   ]
  },
  {
   "cell_type": "code",
   "execution_count": 73,
   "id": "45567f0c",
   "metadata": {},
   "outputs": [],
   "source": [
    "# reshape input to be [samples, time steps, features] which is required for LSTM\n",
    "X_train =X_train.reshape(X_train.shape[0],X_train.shape[1] , 1)\n",
    "X_test = X_test.reshape(X_test.shape[0],X_test.shape[1] , 1)"
   ]
  },
  {
   "cell_type": "code",
   "execution_count": 74,
   "id": "72b4c90c",
   "metadata": {},
   "outputs": [
    {
     "data": {
      "text/plain": [
       "(3569, 100, 1)"
      ]
     },
     "execution_count": 74,
     "metadata": {},
     "output_type": "execute_result"
    }
   ],
   "source": [
    "X_train.shape"
   ]
  },
  {
   "cell_type": "code",
   "execution_count": 75,
   "id": "b134ad2d",
   "metadata": {},
   "outputs": [
    {
     "data": {
      "text/plain": [
       "array([[[0.11961787],\n",
       "        [0.10952637],\n",
       "        [0.13764801],\n",
       "        ...,\n",
       "        [0.15325619],\n",
       "        [0.15110334],\n",
       "        [0.15069968]],\n",
       "\n",
       "       [[0.10952637],\n",
       "        [0.13764801],\n",
       "        [0.16576964],\n",
       "        ...,\n",
       "        [0.15110334],\n",
       "        [0.15069968],\n",
       "        [0.14060818]],\n",
       "\n",
       "       [[0.13764801],\n",
       "        [0.16576964],\n",
       "        [0.16415501],\n",
       "        ...,\n",
       "        [0.15069968],\n",
       "        [0.14060818],\n",
       "        [0.14693219]],\n",
       "\n",
       "       ...,\n",
       "\n",
       "       [[0.87769107],\n",
       "        [0.85764263],\n",
       "        [0.86033369],\n",
       "        ...,\n",
       "        [0.99703983],\n",
       "        [0.98600646],\n",
       "        [0.98196986]],\n",
       "\n",
       "       [[0.85764263],\n",
       "        [0.86033369],\n",
       "        [0.85266416],\n",
       "        ...,\n",
       "        [0.98600646],\n",
       "        [0.98196986],\n",
       "        [0.9239774 ]],\n",
       "\n",
       "       [[0.86033369],\n",
       "        [0.85266416],\n",
       "        [0.85037675],\n",
       "        ...,\n",
       "        [0.98196986],\n",
       "        [0.9239774 ],\n",
       "        [0.92209365]]])"
      ]
     },
     "execution_count": 75,
     "metadata": {},
     "output_type": "execute_result"
    }
   ],
   "source": [
    "X_train"
   ]
  },
  {
   "cell_type": "code",
   "execution_count": 86,
   "id": "35548a57",
   "metadata": {},
   "outputs": [
    {
     "data": {
      "text/plain": [
       "(1876, 100, 1)"
      ]
     },
     "execution_count": 86,
     "metadata": {},
     "output_type": "execute_result"
    }
   ],
   "source": [
    "X_test.shape"
   ]
  },
  {
   "cell_type": "markdown",
   "id": "158d421b",
   "metadata": {},
   "source": [
    "## Part 2 - Building the RNN"
   ]
  },
  {
   "cell_type": "markdown",
   "id": "00c921b0",
   "metadata": {},
   "source": [
    "### Importing the Keras libraries and packages"
   ]
  },
  {
   "cell_type": "code",
   "execution_count": 76,
   "id": "5ba0c9cb",
   "metadata": {},
   "outputs": [],
   "source": [
    "from keras.models import Sequential\n",
    "from keras.layers import Dense\n",
    "from keras.layers import LSTM\n",
    "from keras.layers import Dropout"
   ]
  },
  {
   "cell_type": "markdown",
   "id": "f6e3e1c5",
   "metadata": {},
   "source": [
    "### Initialising the RNN"
   ]
  },
  {
   "cell_type": "code",
   "execution_count": 77,
   "id": "936b2179",
   "metadata": {},
   "outputs": [],
   "source": [
    "model=Sequential()"
   ]
  },
  {
   "cell_type": "markdown",
   "id": "befa9d55",
   "metadata": {},
   "source": [
    "### Adding the first LSTM layer and some Dropout regularisation"
   ]
  },
  {
   "cell_type": "code",
   "execution_count": 78,
   "id": "0e5b8183",
   "metadata": {},
   "outputs": [],
   "source": [
    "model.add(LSTM(units=50,return_sequences=True,input_shape=(100,1)))\n",
    "model.add(Dropout(0.2))"
   ]
  },
  {
   "cell_type": "markdown",
   "id": "ae4133a3",
   "metadata": {},
   "source": [
    "### Adding a second LSTM layer and some Dropout regularisation"
   ]
  },
  {
   "cell_type": "code",
   "execution_count": 79,
   "id": "e1a7c498",
   "metadata": {},
   "outputs": [],
   "source": [
    "model.add(LSTM(units=50,return_sequences=True))\n",
    "model.add(Dropout(0.2))"
   ]
  },
  {
   "cell_type": "markdown",
   "id": "9d611dbe",
   "metadata": {},
   "source": [
    "### Adding a third LSTM layer and some Dropout regularisation"
   ]
  },
  {
   "cell_type": "code",
   "execution_count": 80,
   "id": "52c9e553",
   "metadata": {},
   "outputs": [],
   "source": [
    "model.add(LSTM(units=50))\n",
    "model.add(Dropout(0.2))"
   ]
  },
  {
   "cell_type": "markdown",
   "id": "3161e2e0",
   "metadata": {},
   "source": [
    "### Adding the output layer"
   ]
  },
  {
   "cell_type": "code",
   "execution_count": 81,
   "id": "5a2c615d",
   "metadata": {},
   "outputs": [],
   "source": [
    "model.add(Dense(units=1))"
   ]
  },
  {
   "cell_type": "markdown",
   "id": "3e277b7f",
   "metadata": {},
   "source": [
    "### Compiling the RNN"
   ]
  },
  {
   "cell_type": "code",
   "execution_count": 82,
   "id": "0efd7dfe",
   "metadata": {},
   "outputs": [],
   "source": [
    "model.compile(loss='mean_squared_error',optimizer='adam')"
   ]
  },
  {
   "cell_type": "code",
   "execution_count": 83,
   "id": "9c3386d4",
   "metadata": {
    "scrolled": true
   },
   "outputs": [
    {
     "name": "stdout",
     "output_type": "stream",
     "text": [
      "Model: \"sequential\"\n",
      "_________________________________________________________________\n",
      " Layer (type)                Output Shape              Param #   \n",
      "=================================================================\n",
      " lstm (LSTM)                 (None, 100, 50)           10400     \n",
      "                                                                 \n",
      " dropout (Dropout)           (None, 100, 50)           0         \n",
      "                                                                 \n",
      " lstm_1 (LSTM)               (None, 100, 50)           20200     \n",
      "                                                                 \n",
      " dropout_1 (Dropout)         (None, 100, 50)           0         \n",
      "                                                                 \n",
      " lstm_2 (LSTM)               (None, 50)                20200     \n",
      "                                                                 \n",
      " dropout_2 (Dropout)         (None, 50)                0         \n",
      "                                                                 \n",
      " dense (Dense)               (None, 1)                 51        \n",
      "                                                                 \n",
      "=================================================================\n",
      "Total params: 50,851\n",
      "Trainable params: 50,851\n",
      "Non-trainable params: 0\n",
      "_________________________________________________________________\n"
     ]
    }
   ],
   "source": [
    "model.summary()"
   ]
  },
  {
   "cell_type": "markdown",
   "id": "2f86270b",
   "metadata": {},
   "source": [
    "### Fitting the RNN to the Training set"
   ]
  },
  {
   "cell_type": "code",
   "execution_count": 84,
   "id": "9f3a9829",
   "metadata": {},
   "outputs": [
    {
     "name": "stdout",
     "output_type": "stream",
     "text": [
      "Epoch 1/100\n",
      "56/56 [==============================] - 38s 411ms/step - loss: 0.0241 - val_loss: 0.0026\n",
      "Epoch 2/100\n",
      "56/56 [==============================] - 18s 322ms/step - loss: 0.0040 - val_loss: 0.0024\n",
      "Epoch 3/100\n",
      "56/56 [==============================] - 19s 331ms/step - loss: 0.0037 - val_loss: 0.0020\n",
      "Epoch 4/100\n",
      "56/56 [==============================] - 18s 325ms/step - loss: 0.0034 - val_loss: 0.0020\n",
      "Epoch 5/100\n",
      "56/56 [==============================] - 18s 325ms/step - loss: 0.0032 - val_loss: 0.0023\n",
      "Epoch 6/100\n",
      "56/56 [==============================] - 18s 326ms/step - loss: 0.0032 - val_loss: 0.0018\n",
      "Epoch 7/100\n",
      "56/56 [==============================] - 19s 335ms/step - loss: 0.0031 - val_loss: 0.0020\n",
      "Epoch 8/100\n",
      "56/56 [==============================] - 19s 332ms/step - loss: 0.0033 - val_loss: 0.0025\n",
      "Epoch 9/100\n",
      "56/56 [==============================] - 19s 333ms/step - loss: 0.0030 - val_loss: 0.0020\n",
      "Epoch 10/100\n",
      "56/56 [==============================] - 15s 266ms/step - loss: 0.0028 - val_loss: 0.0017\n",
      "Epoch 11/100\n",
      "56/56 [==============================] - 14s 253ms/step - loss: 0.0028 - val_loss: 0.0017\n",
      "Epoch 12/100\n",
      "56/56 [==============================] - 13s 240ms/step - loss: 0.0027 - val_loss: 0.0019\n",
      "Epoch 13/100\n",
      "56/56 [==============================] - 14s 246ms/step - loss: 0.0026 - val_loss: 0.0015\n",
      "Epoch 14/100\n",
      "56/56 [==============================] - 13s 239ms/step - loss: 0.0024 - val_loss: 0.0015\n",
      "Epoch 15/100\n",
      "56/56 [==============================] - 13s 239ms/step - loss: 0.0027 - val_loss: 0.0015\n",
      "Epoch 16/100\n",
      "56/56 [==============================] - 13s 238ms/step - loss: 0.0024 - val_loss: 0.0014\n",
      "Epoch 17/100\n",
      "56/56 [==============================] - 13s 239ms/step - loss: 0.0025 - val_loss: 0.0013\n",
      "Epoch 18/100\n",
      "56/56 [==============================] - 13s 241ms/step - loss: 0.0022 - val_loss: 0.0015\n",
      "Epoch 19/100\n",
      "56/56 [==============================] - 13s 241ms/step - loss: 0.0023 - val_loss: 0.0016\n",
      "Epoch 20/100\n",
      "56/56 [==============================] - 13s 239ms/step - loss: 0.0022 - val_loss: 0.0014\n",
      "Epoch 21/100\n",
      "56/56 [==============================] - 13s 241ms/step - loss: 0.0020 - val_loss: 0.0012\n",
      "Epoch 22/100\n",
      "56/56 [==============================] - 13s 238ms/step - loss: 0.0021 - val_loss: 0.0012\n",
      "Epoch 23/100\n",
      "56/56 [==============================] - 13s 239ms/step - loss: 0.0021 - val_loss: 0.0012\n",
      "Epoch 24/100\n",
      "56/56 [==============================] - 13s 240ms/step - loss: 0.0020 - val_loss: 0.0013\n",
      "Epoch 25/100\n",
      "56/56 [==============================] - 13s 240ms/step - loss: 0.0019 - val_loss: 0.0011\n",
      "Epoch 26/100\n",
      "56/56 [==============================] - 13s 241ms/step - loss: 0.0020 - val_loss: 0.0011\n",
      "Epoch 27/100\n",
      "56/56 [==============================] - 13s 240ms/step - loss: 0.0022 - val_loss: 0.0011\n",
      "Epoch 28/100\n",
      "56/56 [==============================] - 14s 244ms/step - loss: 0.0018 - val_loss: 0.0010\n",
      "Epoch 29/100\n",
      "56/56 [==============================] - 13s 239ms/step - loss: 0.0019 - val_loss: 0.0012\n",
      "Epoch 30/100\n",
      "56/56 [==============================] - 13s 239ms/step - loss: 0.0018 - val_loss: 0.0010\n",
      "Epoch 31/100\n",
      "56/56 [==============================] - 13s 240ms/step - loss: 0.0018 - val_loss: 9.7370e-04\n",
      "Epoch 32/100\n",
      "56/56 [==============================] - 14s 242ms/step - loss: 0.0017 - val_loss: 0.0010\n",
      "Epoch 33/100\n",
      "56/56 [==============================] - 13s 238ms/step - loss: 0.0016 - val_loss: 9.6241e-04\n",
      "Epoch 34/100\n",
      "56/56 [==============================] - 13s 239ms/step - loss: 0.0016 - val_loss: 0.0010\n",
      "Epoch 35/100\n",
      "56/56 [==============================] - 14s 243ms/step - loss: 0.0017 - val_loss: 9.3411e-04\n",
      "Epoch 36/100\n",
      "56/56 [==============================] - 13s 240ms/step - loss: 0.0017 - val_loss: 0.0014\n",
      "Epoch 37/100\n",
      "56/56 [==============================] - 14s 242ms/step - loss: 0.0015 - val_loss: 9.2224e-04\n",
      "Epoch 38/100\n",
      "56/56 [==============================] - 13s 239ms/step - loss: 0.0016 - val_loss: 0.0013\n",
      "Epoch 39/100\n",
      "56/56 [==============================] - 14s 241ms/step - loss: 0.0014 - val_loss: 9.0594e-04\n",
      "Epoch 40/100\n",
      "56/56 [==============================] - 13s 241ms/step - loss: 0.0016 - val_loss: 0.0016\n",
      "Epoch 41/100\n",
      "56/56 [==============================] - 13s 240ms/step - loss: 0.0016 - val_loss: 0.0011\n",
      "Epoch 42/100\n",
      "56/56 [==============================] - 13s 239ms/step - loss: 0.0014 - val_loss: 9.3357e-04\n",
      "Epoch 43/100\n",
      "56/56 [==============================] - 13s 241ms/step - loss: 0.0014 - val_loss: 9.1856e-04\n",
      "Epoch 44/100\n",
      "56/56 [==============================] - 13s 241ms/step - loss: 0.0014 - val_loss: 7.7685e-04\n",
      "Epoch 45/100\n",
      "56/56 [==============================] - 13s 239ms/step - loss: 0.0013 - val_loss: 7.5287e-04\n",
      "Epoch 46/100\n",
      "56/56 [==============================] - 14s 241ms/step - loss: 0.0014 - val_loss: 8.3966e-04\n",
      "Epoch 47/100\n",
      "56/56 [==============================] - 13s 239ms/step - loss: 0.0013 - val_loss: 7.8551e-04\n",
      "Epoch 48/100\n",
      "56/56 [==============================] - 14s 242ms/step - loss: 0.0014 - val_loss: 8.2827e-04\n",
      "Epoch 49/100\n",
      "56/56 [==============================] - 13s 240ms/step - loss: 0.0013 - val_loss: 7.2063e-04\n",
      "Epoch 50/100\n",
      "56/56 [==============================] - 13s 240ms/step - loss: 0.0013 - val_loss: 7.4147e-04\n",
      "Epoch 51/100\n",
      "56/56 [==============================] - 13s 241ms/step - loss: 0.0013 - val_loss: 9.5554e-04\n",
      "Epoch 52/100\n",
      "56/56 [==============================] - 14s 243ms/step - loss: 0.0011 - val_loss: 7.5786e-04\n",
      "Epoch 53/100\n",
      "56/56 [==============================] - 13s 240ms/step - loss: 0.0012 - val_loss: 6.9969e-04\n",
      "Epoch 54/100\n",
      "56/56 [==============================] - 13s 241ms/step - loss: 0.0013 - val_loss: 6.6988e-04\n",
      "Epoch 55/100\n",
      "56/56 [==============================] - 14s 244ms/step - loss: 0.0011 - val_loss: 6.6436e-04\n",
      "Epoch 56/100\n",
      "56/56 [==============================] - 14s 254ms/step - loss: 0.0012 - val_loss: 8.4629e-04\n",
      "Epoch 57/100\n",
      "56/56 [==============================] - 13s 239ms/step - loss: 0.0011 - val_loss: 6.4749e-04\n",
      "Epoch 58/100\n",
      "56/56 [==============================] - 13s 235ms/step - loss: 0.0011 - val_loss: 6.4299e-04\n",
      "Epoch 59/100\n",
      "56/56 [==============================] - 14s 242ms/step - loss: 0.0012 - val_loss: 6.2742e-04\n",
      "Epoch 60/100\n",
      "56/56 [==============================] - 13s 239ms/step - loss: 0.0010 - val_loss: 6.1749e-04\n",
      "Epoch 61/100\n",
      "56/56 [==============================] - 13s 240ms/step - loss: 0.0011 - val_loss: 6.1883e-04\n",
      "Epoch 62/100\n",
      "56/56 [==============================] - 13s 239ms/step - loss: 0.0011 - val_loss: 6.2008e-04\n",
      "Epoch 63/100\n",
      "56/56 [==============================] - 13s 239ms/step - loss: 0.0010 - val_loss: 6.2164e-04\n",
      "Epoch 64/100\n",
      "56/56 [==============================] - 13s 240ms/step - loss: 0.0011 - val_loss: 6.0558e-04\n",
      "Epoch 65/100\n",
      "56/56 [==============================] - 13s 239ms/step - loss: 0.0010 - val_loss: 5.9133e-04\n",
      "Epoch 66/100\n",
      "56/56 [==============================] - 13s 238ms/step - loss: 9.7437e-04 - val_loss: 6.4504e-04\n",
      "Epoch 67/100\n",
      "56/56 [==============================] - 13s 240ms/step - loss: 0.0010 - val_loss: 6.8647e-04\n",
      "Epoch 68/100\n",
      "56/56 [==============================] - 13s 239ms/step - loss: 9.8866e-04 - val_loss: 5.4189e-04\n",
      "Epoch 69/100\n",
      "56/56 [==============================] - 13s 239ms/step - loss: 9.8549e-04 - val_loss: 5.5134e-04\n",
      "Epoch 70/100\n",
      "56/56 [==============================] - 13s 238ms/step - loss: 9.4813e-04 - val_loss: 6.2224e-04\n",
      "Epoch 71/100\n",
      "56/56 [==============================] - 14s 242ms/step - loss: 9.7198e-04 - val_loss: 5.6142e-04\n",
      "Epoch 72/100\n",
      "56/56 [==============================] - 13s 238ms/step - loss: 9.5857e-04 - val_loss: 5.2323e-04\n",
      "Epoch 73/100\n",
      "56/56 [==============================] - 13s 239ms/step - loss: 9.8079e-04 - val_loss: 5.3592e-04\n",
      "Epoch 74/100\n",
      "56/56 [==============================] - 13s 240ms/step - loss: 9.9637e-04 - val_loss: 6.2190e-04\n",
      "Epoch 75/100\n",
      "56/56 [==============================] - 14s 244ms/step - loss: 0.0010 - val_loss: 5.1569e-04\n",
      "Epoch 76/100\n",
      "56/56 [==============================] - 13s 236ms/step - loss: 9.3779e-04 - val_loss: 6.1271e-04\n",
      "Epoch 77/100\n",
      "56/56 [==============================] - 14s 246ms/step - loss: 9.2187e-04 - val_loss: 4.9558e-04\n",
      "Epoch 78/100\n",
      "56/56 [==============================] - 13s 240ms/step - loss: 9.0560e-04 - val_loss: 6.2050e-04\n",
      "Epoch 79/100\n",
      "56/56 [==============================] - 13s 235ms/step - loss: 9.3036e-04 - val_loss: 8.0525e-04\n",
      "Epoch 80/100\n",
      "56/56 [==============================] - 13s 237ms/step - loss: 9.3156e-04 - val_loss: 5.4490e-04\n",
      "Epoch 81/100\n",
      "56/56 [==============================] - 13s 236ms/step - loss: 9.4664e-04 - val_loss: 5.8127e-04\n",
      "Epoch 82/100\n",
      "56/56 [==============================] - 13s 237ms/step - loss: 0.0010 - val_loss: 4.7529e-04\n",
      "Epoch 83/100\n",
      "56/56 [==============================] - 13s 239ms/step - loss: 8.9763e-04 - val_loss: 5.3633e-04\n",
      "Epoch 84/100\n",
      "56/56 [==============================] - 13s 239ms/step - loss: 8.8806e-04 - val_loss: 4.5189e-04\n",
      "Epoch 85/100\n",
      "56/56 [==============================] - 13s 241ms/step - loss: 8.9441e-04 - val_loss: 4.4088e-04\n",
      "Epoch 86/100\n",
      "56/56 [==============================] - 13s 237ms/step - loss: 9.1664e-04 - val_loss: 4.4394e-04\n",
      "Epoch 87/100\n",
      "56/56 [==============================] - 13s 238ms/step - loss: 8.6012e-04 - val_loss: 5.3526e-04\n",
      "Epoch 88/100\n",
      "56/56 [==============================] - 13s 240ms/step - loss: 8.8260e-04 - val_loss: 7.5716e-04\n",
      "Epoch 89/100\n",
      "56/56 [==============================] - 13s 241ms/step - loss: 9.2348e-04 - val_loss: 4.5932e-04\n",
      "Epoch 90/100\n",
      "56/56 [==============================] - 16s 286ms/step - loss: 8.3772e-04 - val_loss: 5.5066e-04\n",
      "Epoch 91/100\n",
      "56/56 [==============================] - 19s 338ms/step - loss: 8.6267e-04 - val_loss: 4.5275e-04\n",
      "Epoch 92/100\n",
      "56/56 [==============================] - 18s 324ms/step - loss: 8.8413e-04 - val_loss: 4.1178e-04\n",
      "Epoch 93/100\n",
      "56/56 [==============================] - 19s 333ms/step - loss: 8.7525e-04 - val_loss: 4.8373e-04\n",
      "Epoch 94/100\n",
      "56/56 [==============================] - 19s 338ms/step - loss: 9.0008e-04 - val_loss: 4.0661e-04\n",
      "Epoch 95/100\n",
      "56/56 [==============================] - 19s 333ms/step - loss: 8.2448e-04 - val_loss: 4.2933e-04\n",
      "Epoch 96/100\n",
      "56/56 [==============================] - 19s 339ms/step - loss: 8.1871e-04 - val_loss: 4.1354e-04\n",
      "Epoch 97/100\n",
      "56/56 [==============================] - 19s 337ms/step - loss: 8.6155e-04 - val_loss: 4.0130e-04\n",
      "Epoch 98/100\n",
      "56/56 [==============================] - 18s 321ms/step - loss: 8.4387e-04 - val_loss: 4.5884e-04\n",
      "Epoch 99/100\n",
      "56/56 [==============================] - 19s 343ms/step - loss: 8.9014e-04 - val_loss: 4.1035e-04\n",
      "Epoch 100/100\n",
      "56/56 [==============================] - 19s 336ms/step - loss: 8.3751e-04 - val_loss: 3.9102e-04\n"
     ]
    },
    {
     "data": {
      "text/plain": [
       "<keras.callbacks.History at 0x29511682f10>"
      ]
     },
     "execution_count": 84,
     "metadata": {},
     "output_type": "execute_result"
    }
   ],
   "source": [
    "model.fit(X_train,y_train,validation_data=(X_test,ytest),epochs=100,batch_size=64,verbose=1)"
   ]
  },
  {
   "cell_type": "markdown",
   "id": "91558741",
   "metadata": {},
   "source": [
    "## Part 3 - Making the predictions and visualising the results"
   ]
  },
  {
   "cell_type": "code",
   "execution_count": 87,
   "id": "b629c337",
   "metadata": {},
   "outputs": [
    {
     "name": "stdout",
     "output_type": "stream",
     "text": [
      "112/112 [==============================] - 11s 65ms/step\n",
      "59/59 [==============================] - 5s 77ms/step\n"
     ]
    }
   ],
   "source": [
    "# Lets Do the prediction and check performance metrics\n",
    "train_predict=model.predict(X_train)\n",
    "test_predict=model.predict(X_test)"
   ]
  },
  {
   "cell_type": "code",
   "execution_count": 88,
   "id": "94fb7eb9",
   "metadata": {},
   "outputs": [],
   "source": [
    "# Transformback to original form\n",
    "train_predict=scaler.inverse_transform(train_predict)\n",
    "test_predict=scaler.inverse_transform(test_predict)"
   ]
  },
  {
   "cell_type": "code",
   "execution_count": 89,
   "id": "ca6fbab7",
   "metadata": {},
   "outputs": [
    {
     "data": {
      "text/plain": [
       "67.87984741396848"
      ]
     },
     "execution_count": 89,
     "metadata": {},
     "output_type": "execute_result"
    }
   ],
   "source": [
    "# Calculate RMSE performance metrics\n",
    "import math\n",
    "from sklearn.metrics import mean_squared_error\n",
    "math.sqrt(mean_squared_error(y_train,train_predict))"
   ]
  },
  {
   "cell_type": "code",
   "execution_count": 90,
   "id": "7567dbd5",
   "metadata": {},
   "outputs": [
    {
     "data": {
      "text/plain": [
       "74.05702823274983"
      ]
     },
     "execution_count": 90,
     "metadata": {},
     "output_type": "execute_result"
    }
   ],
   "source": [
    "# Test Data RMSE\n",
    "math.sqrt(mean_squared_error(ytest,test_predict))"
   ]
  },
  {
   "cell_type": "markdown",
   "id": "100302dd",
   "metadata": {},
   "source": [
    "### visualising the results"
   ]
  },
  {
   "cell_type": "code",
   "execution_count": 91,
   "id": "3fd50d1a",
   "metadata": {},
   "outputs": [
    {
     "data": {
      "image/png": "[encoded data removed]",
      "text/plain": [
       "<Figure size 432x288 with 1 Axes>"
      ]
     },
     "metadata": {
      "needs_background": "light"
     },
     "output_type": "display_data"
    }
   ],
   "source": [
    "# shift train predictions for plotting\n",
    "look_back=100\n",
    "trainPredictPlot = np.empty_like(df1)\n",
    "trainPredictPlot[:, :] = np.nan\n",
    "trainPredictPlot[look_back:len(train_predict)+look_back, :] = train_predict\n",
    "# shift test predictions for plotting\n",
    "testPredictPlot = np.empty_like(df1)\n",
    "testPredictPlot[:, :] = np.nan\n",
    "testPredictPlot[len(train_predict)+(look_back*2)+1:len(df1)-1, :] = test_predict\n",
    "# plot baseline and predictions\n",
    "plt.plot(scaler.inverse_transform(df1))\n",
    "plt.plot(trainPredictPlot)\n",
    "plt.plot(testPredictPlot)\n",
    "plt.show()"
   ]
  },
  {
   "cell_type": "markdown",
   "id": "d8709192",
   "metadata": {},
   "source": [
    "## Part 4 - Predicting closing stock price for next 30 days."
   ]
  },
  {
   "cell_type": "code",
   "execution_count": 92,
   "id": "04f809ef",
   "metadata": {},
   "outputs": [
    {
     "data": {
      "text/plain": [
       "1977"
      ]
     },
     "execution_count": 92,
     "metadata": {},
     "output_type": "execute_result"
    }
   ],
   "source": [
    "len(test_data)"
   ]
  },
  {
   "cell_type": "code",
   "execution_count": 93,
   "id": "117e822b",
   "metadata": {},
   "outputs": [
    {
     "data": {
      "text/plain": [
       "(1, 100)"
      ]
     },
     "execution_count": 93,
     "metadata": {},
     "output_type": "execute_result"
    }
   ],
   "source": [
    "x_input=test_data[1877:].reshape(1,-1)\n",
    "x_input.shape"
   ]
  },
  {
   "cell_type": "code",
   "execution_count": 94,
   "id": "0fe49869",
   "metadata": {},
   "outputs": [],
   "source": [
    "temp_input=list(x_input)\n",
    "temp_input=temp_input[0].tolist()"
   ]
  },
  {
   "cell_type": "code",
   "execution_count": 95,
   "id": "ab501d66",
   "metadata": {},
   "outputs": [
    {
     "data": {
      "text/plain": [
       "[0.576426264800861,\n",
       " 0.5785791173304627,\n",
       " 0.563778256189451,\n",
       " 0.5721205597416577,\n",
       " 0.6009149623250807,\n",
       " 0.5906889128094724,\n",
       " 0.6034714747039827,\n",
       " 0.6056243272335844,\n",
       " 0.6147739504843917,\n",
       " 0.680301399354144,\n",
       " 0.6774757804090419,\n",
       " 0.6648277717976319,\n",
       " 0.6881054897739503,\n",
       " 0.701291711517761,\n",
       " 0.6726318622174381,\n",
       " 0.6556781485468244,\n",
       " 0.6454520990312163,\n",
       " 0.6719590958019375,\n",
       " 0.6554090419806242,\n",
       " 0.6420882669537136,\n",
       " 0.6469321851453174,\n",
       " 0.6453175457481162,\n",
       " 0.6336114101184067,\n",
       " 0.621501614639397,\n",
       " 0.6256727664155004,\n",
       " 0.6126210979547899,\n",
       " 0.6400699677072119,\n",
       " 0.6478740581270181,\n",
       " 0.6579655543595264,\n",
       " 0.6762648008611409,\n",
       " 0.6831270182992466,\n",
       " 0.7241657696447792,\n",
       " 0.7649354144241118,\n",
       " 0.7738159311087189,\n",
       " 0.7066738428417654,\n",
       " 0.741254036598493,\n",
       " 0.7353336921420881,\n",
       " 0.6944294940796554,\n",
       " 0.6317276641550054,\n",
       " 0.6278256189451024,\n",
       " 0.6554090419806242,\n",
       " 0.6512378902045208,\n",
       " 0.6987351991388588,\n",
       " 0.693891280947255,\n",
       " 0.7112486544671688,\n",
       " 0.7146124865446715,\n",
       " 0.7391011840688912,\n",
       " 0.7069429494079655,\n",
       " 0.7010226049515609,\n",
       " 0.719994617868676,\n",
       " 0.7039827771797631,\n",
       " 0.7111141011840689,\n",
       " 0.7116523143164692,\n",
       " 0.7058665231431647,\n",
       " 0.7182454251883745,\n",
       " 0.7370828848223896,\n",
       " 0.7611679224973089,\n",
       " 0.7209364908503766,\n",
       " 0.7444833153928954,\n",
       " 0.7607642626480084,\n",
       " 0.7744886975242196,\n",
       " 0.7841765339074271,\n",
       " 0.7735468245425188,\n",
       " 0.7762378902045208,\n",
       " 0.7637244348762109,\n",
       " 0.7381593110871905,\n",
       " 0.6995425188374595,\n",
       " 0.69994617868676,\n",
       " 0.7315662002152852,\n",
       " 0.7660118406889127,\n",
       " 0.7397739504843917,\n",
       " 0.7553821313240041,\n",
       " 0.7793326157158234,\n",
       " 0.8265608180839612,\n",
       " 0.8078579117330462,\n",
       " 0.8264262648008609,\n",
       " 0.7291442411194831,\n",
       " 0.7366792249730891,\n",
       " 0.7604951560818083,\n",
       " 0.753902045209903,\n",
       " 0.7883476856835305,\n",
       " 0.8164693218514532,\n",
       " 0.8320775026910656,\n",
       " 0.8124327233584498,\n",
       " 0.8190258342303551,\n",
       " 0.8287136706135629,\n",
       " 0.8560279870828846,\n",
       " 0.8628902045209903,\n",
       " 0.8884553283100105,\n",
       " 0.8930301399354144,\n",
       " 0.9058127018299247,\n",
       " 0.8844187298170074,\n",
       " 0.9091765339074274,\n",
       " 0.9068891280947253,\n",
       " 0.9259956942949408,\n",
       " 0.9226318622174381,\n",
       " 0.9835844994617868,\n",
       " 1.0,\n",
       " 0.9695909580193756,\n",
       " 0.9444294940796554]"
      ]
     },
     "execution_count": 95,
     "metadata": {},
     "output_type": "execute_result"
    }
   ],
   "source": [
    "temp_input"
   ]
  },
  {
   "cell_type": "code",
   "execution_count": 96,
   "id": "fd5d5ce5",
   "metadata": {
    "scrolled": false
   },
   "outputs": [
    {
     "name": "stdout",
     "output_type": "stream",
     "text": [
      "[0.9497391]\n",
      "101\n",
      "1 day input [0.57857912 0.56377826 0.57212056 0.60091496 0.59068891 0.60347147\n",
      " 0.60562433 0.61477395 0.6803014  0.67747578 0.66482777 0.68810549\n",
      " 0.70129171 0.67263186 0.65567815 0.6454521  0.6719591  0.65540904\n",
      " 0.64208827 0.64693219 0.64531755 0.63361141 0.62150161 0.62567277\n",
      " 0.6126211  0.64006997 0.64787406 0.65796555 0.6762648  0.68312702\n",
      " 0.72416577 0.76493541 0.77381593 0.70667384 0.74125404 0.73533369\n",
      " 0.69442949 0.63172766 0.62782562 0.65540904 0.65123789 0.6987352\n",
      " 0.69389128 0.71124865 0.71461249 0.73910118 0.70694295 0.7010226\n",
      " 0.71999462 0.70398278 0.7111141  0.71165231 0.70586652 0.71824543\n",
      " 0.73708288 0.76116792 0.72093649 0.74448332 0.76076426 0.7744887\n",
      " 0.78417653 0.77354682 0.77623789 0.76372443 0.73815931 0.69954252\n",
      " 0.69994618 0.7315662  0.76601184 0.73977395 0.75538213 0.77933262\n",
      " 0.82656082 0.80785791 0.82642626 0.72914424 0.73667922 0.76049516\n",
      " 0.75390205 0.78834769 0.81646932 0.8320775  0.81243272 0.81902583\n",
      " 0.82871367 0.85602799 0.8628902  0.88845533 0.89303014 0.9058127\n",
      " 0.88441873 0.90917653 0.90688913 0.92599569 0.92263186 0.9835845\n",
      " 1.         0.96959096 0.94442949 0.9497391 ]\n",
      "1 day output [[0.93486416]]\n",
      "2 day input [0.56377826 0.57212056 0.60091496 0.59068891 0.60347147 0.60562433\n",
      " 0.61477395 0.6803014  0.67747578 0.66482777 0.68810549 0.70129171\n",
      " 0.67263186 0.65567815 0.6454521  0.6719591  0.65540904 0.64208827\n",
      " 0.64693219 0.64531755 0.63361141 0.62150161 0.62567277 0.6126211\n",
      " 0.64006997 0.64787406 0.65796555 0.6762648  0.68312702 0.72416577\n",
      " 0.76493541 0.77381593 0.70667384 0.74125404 0.73533369 0.69442949\n",
      " 0.63172766 0.62782562 0.65540904 0.65123789 0.6987352  0.69389128\n",
      " 0.71124865 0.71461249 0.73910118 0.70694295 0.7010226  0.71999462\n",
      " 0.70398278 0.7111141  0.71165231 0.70586652 0.71824543 0.73708288\n",
      " 0.76116792 0.72093649 0.74448332 0.76076426 0.7744887  0.78417653\n",
      " 0.77354682 0.77623789 0.76372443 0.73815931 0.69954252 0.69994618\n",
      " 0.7315662  0.76601184 0.73977395 0.75538213 0.77933262 0.82656082\n",
      " 0.80785791 0.82642626 0.72914424 0.73667922 0.76049516 0.75390205\n",
      " 0.78834769 0.81646932 0.8320775  0.81243272 0.81902583 0.82871367\n",
      " 0.85602799 0.8628902  0.88845533 0.89303014 0.9058127  0.88441873\n",
      " 0.90917653 0.90688913 0.92599569 0.92263186 0.9835845  1.\n",
      " 0.96959096 0.94442949 0.9497391  0.93486416]\n",
      "2 day output [[0.92567647]]\n",
      "3 day input [0.57212056 0.60091496 0.59068891 0.60347147 0.60562433 0.61477395\n",
      " 0.6803014  0.67747578 0.66482777 0.68810549 0.70129171 0.67263186\n",
      " 0.65567815 0.6454521  0.6719591  0.65540904 0.64208827 0.64693219\n",
      " 0.64531755 0.63361141 0.62150161 0.62567277 0.6126211  0.64006997\n",
      " 0.64787406 0.65796555 0.6762648  0.68312702 0.72416577 0.76493541\n",
      " 0.77381593 0.70667384 0.74125404 0.73533369 0.69442949 0.63172766\n",
      " 0.62782562 0.65540904 0.65123789 0.6987352  0.69389128 0.71124865\n",
      " 0.71461249 0.73910118 0.70694295 0.7010226  0.71999462 0.70398278\n",
      " 0.7111141  0.71165231 0.70586652 0.71824543 0.73708288 0.76116792\n",
      " 0.72093649 0.74448332 0.76076426 0.7744887  0.78417653 0.77354682\n",
      " 0.77623789 0.76372443 0.73815931 0.69954252 0.69994618 0.7315662\n",
      " 0.76601184 0.73977395 0.75538213 0.77933262 0.82656082 0.80785791\n",
      " 0.82642626 0.72914424 0.73667922 0.76049516 0.75390205 0.78834769\n",
      " 0.81646932 0.8320775  0.81243272 0.81902583 0.82871367 0.85602799\n",
      " 0.8628902  0.88845533 0.89303014 0.9058127  0.88441873 0.90917653\n",
      " 0.90688913 0.92599569 0.92263186 0.9835845  1.         0.96959096\n",
      " 0.94442949 0.9497391  0.93486416 0.92567647]\n",
      "3 day output [[0.91876763]]\n",
      "4 day input [0.60091496 0.59068891 0.60347147 0.60562433 0.61477395 0.6803014\n",
      " 0.67747578 0.66482777 0.68810549 0.70129171 0.67263186 0.65567815\n",
      " 0.6454521  0.6719591  0.65540904 0.64208827 0.64693219 0.64531755\n",
      " 0.63361141 0.62150161 0.62567277 0.6126211  0.64006997 0.64787406\n",
      " 0.65796555 0.6762648  0.68312702 0.72416577 0.76493541 0.77381593\n",
      " 0.70667384 0.74125404 0.73533369 0.69442949 0.63172766 0.62782562\n",
      " 0.65540904 0.65123789 0.6987352  0.69389128 0.71124865 0.71461249\n",
      " 0.73910118 0.70694295 0.7010226  0.71999462 0.70398278 0.7111141\n",
      " 0.71165231 0.70586652 0.71824543 0.73708288 0.76116792 0.72093649\n",
      " 0.74448332 0.76076426 0.7744887  0.78417653 0.77354682 0.77623789\n",
      " 0.76372443 0.73815931 0.69954252 0.69994618 0.7315662  0.76601184\n",
      " 0.73977395 0.75538213 0.77933262 0.82656082 0.80785791 0.82642626\n",
      " 0.72914424 0.73667922 0.76049516 0.75390205 0.78834769 0.81646932\n",
      " 0.8320775  0.81243272 0.81902583 0.82871367 0.85602799 0.8628902\n",
      " 0.88845533 0.89303014 0.9058127  0.88441873 0.90917653 0.90688913\n",
      " 0.92599569 0.92263186 0.9835845  1.         0.96959096 0.94442949\n",
      " 0.9497391  0.93486416 0.92567647 0.91876763]\n",
      "4 day output [[0.9120998]]\n",
      "5 day input [0.59068891 0.60347147 0.60562433 0.61477395 0.6803014  0.67747578\n",
      " 0.66482777 0.68810549 0.70129171 0.67263186 0.65567815 0.6454521\n",
      " 0.6719591  0.65540904 0.64208827 0.64693219 0.64531755 0.63361141\n",
      " 0.62150161 0.62567277 0.6126211  0.64006997 0.64787406 0.65796555\n",
      " 0.6762648  0.68312702 0.72416577 0.76493541 0.77381593 0.70667384\n",
      " 0.74125404 0.73533369 0.69442949 0.63172766 0.62782562 0.65540904\n",
      " 0.65123789 0.6987352  0.69389128 0.71124865 0.71461249 0.73910118\n",
      " 0.70694295 0.7010226  0.71999462 0.70398278 0.7111141  0.71165231\n",
      " 0.70586652 0.71824543 0.73708288 0.76116792 0.72093649 0.74448332\n",
      " 0.76076426 0.7744887  0.78417653 0.77354682 0.77623789 0.76372443\n",
      " 0.73815931 0.69954252 0.69994618 0.7315662  0.76601184 0.73977395\n",
      " 0.75538213 0.77933262 0.82656082 0.80785791 0.82642626 0.72914424\n",
      " 0.73667922 0.76049516 0.75390205 0.78834769 0.81646932 0.8320775\n",
      " 0.81243272 0.81902583 0.82871367 0.85602799 0.8628902  0.88845533\n",
      " 0.89303014 0.9058127  0.88441873 0.90917653 0.90688913 0.92599569\n",
      " 0.92263186 0.9835845  1.         0.96959096 0.94442949 0.9497391\n",
      " 0.93486416 0.92567647 0.91876763 0.91209978]\n",
      "5 day output [[0.9052268]]\n",
      "6 day input [0.60347147 0.60562433 0.61477395 0.6803014  0.67747578 0.66482777\n",
      " 0.68810549 0.70129171 0.67263186 0.65567815 0.6454521  0.6719591\n",
      " 0.65540904 0.64208827 0.64693219 0.64531755 0.63361141 0.62150161\n",
      " 0.62567277 0.6126211  0.64006997 0.64787406 0.65796555 0.6762648\n",
      " 0.68312702 0.72416577 0.76493541 0.77381593 0.70667384 0.74125404\n",
      " 0.73533369 0.69442949 0.63172766 0.62782562 0.65540904 0.65123789\n",
      " 0.6987352  0.69389128 0.71124865 0.71461249 0.73910118 0.70694295\n",
      " 0.7010226  0.71999462 0.70398278 0.7111141  0.71165231 0.70586652\n",
      " 0.71824543 0.73708288 0.76116792 0.72093649 0.74448332 0.76076426\n",
      " 0.7744887  0.78417653 0.77354682 0.77623789 0.76372443 0.73815931\n",
      " 0.69954252 0.69994618 0.7315662  0.76601184 0.73977395 0.75538213\n",
      " 0.77933262 0.82656082 0.80785791 0.82642626 0.72914424 0.73667922\n",
      " 0.76049516 0.75390205 0.78834769 0.81646932 0.8320775  0.81243272\n",
      " 0.81902583 0.82871367 0.85602799 0.8628902  0.88845533 0.89303014\n",
      " 0.9058127  0.88441873 0.90917653 0.90688913 0.92599569 0.92263186\n",
      " 0.9835845  1.         0.96959096 0.94442949 0.9497391  0.93486416\n",
      " 0.92567647 0.91876763 0.91209978 0.90522683]\n",
      "6 day output [[0.89833665]]\n",
      "7 day input [0.60562433 0.61477395 0.6803014  0.67747578 0.66482777 0.68810549\n",
      " 0.70129171 0.67263186 0.65567815 0.6454521  0.6719591  0.65540904\n",
      " 0.64208827 0.64693219 0.64531755 0.63361141 0.62150161 0.62567277\n",
      " 0.6126211  0.64006997 0.64787406 0.65796555 0.6762648  0.68312702\n",
      " 0.72416577 0.76493541 0.77381593 0.70667384 0.74125404 0.73533369\n",
      " 0.69442949 0.63172766 0.62782562 0.65540904 0.65123789 0.6987352\n",
      " 0.69389128 0.71124865 0.71461249 0.73910118 0.70694295 0.7010226\n",
      " 0.71999462 0.70398278 0.7111141  0.71165231 0.70586652 0.71824543\n",
      " 0.73708288 0.76116792 0.72093649 0.74448332 0.76076426 0.7744887\n",
      " 0.78417653 0.77354682 0.77623789 0.76372443 0.73815931 0.69954252\n",
      " 0.69994618 0.7315662  0.76601184 0.73977395 0.75538213 0.77933262\n",
      " 0.82656082 0.80785791 0.82642626 0.72914424 0.73667922 0.76049516\n",
      " 0.75390205 0.78834769 0.81646932 0.8320775  0.81243272 0.81902583\n",
      " 0.82871367 0.85602799 0.8628902  0.88845533 0.89303014 0.9058127\n",
      " 0.88441873 0.90917653 0.90688913 0.92599569 0.92263186 0.9835845\n",
      " 1.         0.96959096 0.94442949 0.9497391  0.93486416 0.92567647\n",
      " 0.91876763 0.91209978 0.90522683 0.89833665]\n",
      "7 day output [[0.89167404]]\n",
      "8 day input [0.61477395 0.6803014  0.67747578 0.66482777 0.68810549 0.70129171\n",
      " 0.67263186 0.65567815 0.6454521  0.6719591  0.65540904 0.64208827\n",
      " 0.64693219 0.64531755 0.63361141 0.62150161 0.62567277 0.6126211\n",
      " 0.64006997 0.64787406 0.65796555 0.6762648  0.68312702 0.72416577\n",
      " 0.76493541 0.77381593 0.70667384 0.74125404 0.73533369 0.69442949\n",
      " 0.63172766 0.62782562 0.65540904 0.65123789 0.6987352  0.69389128\n",
      " 0.71124865 0.71461249 0.73910118 0.70694295 0.7010226  0.71999462\n",
      " 0.70398278 0.7111141  0.71165231 0.70586652 0.71824543 0.73708288\n",
      " 0.76116792 0.72093649 0.74448332 0.76076426 0.7744887  0.78417653\n",
      " 0.77354682 0.77623789 0.76372443 0.73815931 0.69954252 0.69994618\n",
      " 0.7315662  0.76601184 0.73977395 0.75538213 0.77933262 0.82656082\n",
      " 0.80785791 0.82642626 0.72914424 0.73667922 0.76049516 0.75390205\n",
      " 0.78834769 0.81646932 0.8320775  0.81243272 0.81902583 0.82871367\n",
      " 0.85602799 0.8628902  0.88845533 0.89303014 0.9058127  0.88441873\n",
      " 0.90917653 0.90688913 0.92599569 0.92263186 0.9835845  1.\n",
      " 0.96959096 0.94442949 0.9497391  0.93486416 0.92567647 0.91876763\n",
      " 0.91209978 0.90522683 0.89833665 0.89167404]\n"
     ]
    },
    {
     "name": "stdout",
     "output_type": "stream",
     "text": [
      "8 day output [[0.8853884]]\n",
      "9 day input [0.6803014  0.67747578 0.66482777 0.68810549 0.70129171 0.67263186\n",
      " 0.65567815 0.6454521  0.6719591  0.65540904 0.64208827 0.64693219\n",
      " 0.64531755 0.63361141 0.62150161 0.62567277 0.6126211  0.64006997\n",
      " 0.64787406 0.65796555 0.6762648  0.68312702 0.72416577 0.76493541\n",
      " 0.77381593 0.70667384 0.74125404 0.73533369 0.69442949 0.63172766\n",
      " 0.62782562 0.65540904 0.65123789 0.6987352  0.69389128 0.71124865\n",
      " 0.71461249 0.73910118 0.70694295 0.7010226  0.71999462 0.70398278\n",
      " 0.7111141  0.71165231 0.70586652 0.71824543 0.73708288 0.76116792\n",
      " 0.72093649 0.74448332 0.76076426 0.7744887  0.78417653 0.77354682\n",
      " 0.77623789 0.76372443 0.73815931 0.69954252 0.69994618 0.7315662\n",
      " 0.76601184 0.73977395 0.75538213 0.77933262 0.82656082 0.80785791\n",
      " 0.82642626 0.72914424 0.73667922 0.76049516 0.75390205 0.78834769\n",
      " 0.81646932 0.8320775  0.81243272 0.81902583 0.82871367 0.85602799\n",
      " 0.8628902  0.88845533 0.89303014 0.9058127  0.88441873 0.90917653\n",
      " 0.90688913 0.92599569 0.92263186 0.9835845  1.         0.96959096\n",
      " 0.94442949 0.9497391  0.93486416 0.92567647 0.91876763 0.91209978\n",
      " 0.90522683 0.89833665 0.89167404 0.88538837]\n",
      "9 day output [[0.8795498]]\n",
      "10 day input [0.67747578 0.66482777 0.68810549 0.70129171 0.67263186 0.65567815\n",
      " 0.6454521  0.6719591  0.65540904 0.64208827 0.64693219 0.64531755\n",
      " 0.63361141 0.62150161 0.62567277 0.6126211  0.64006997 0.64787406\n",
      " 0.65796555 0.6762648  0.68312702 0.72416577 0.76493541 0.77381593\n",
      " 0.70667384 0.74125404 0.73533369 0.69442949 0.63172766 0.62782562\n",
      " 0.65540904 0.65123789 0.6987352  0.69389128 0.71124865 0.71461249\n",
      " 0.73910118 0.70694295 0.7010226  0.71999462 0.70398278 0.7111141\n",
      " 0.71165231 0.70586652 0.71824543 0.73708288 0.76116792 0.72093649\n",
      " 0.74448332 0.76076426 0.7744887  0.78417653 0.77354682 0.77623789\n",
      " 0.76372443 0.73815931 0.69954252 0.69994618 0.7315662  0.76601184\n",
      " 0.73977395 0.75538213 0.77933262 0.82656082 0.80785791 0.82642626\n",
      " 0.72914424 0.73667922 0.76049516 0.75390205 0.78834769 0.81646932\n",
      " 0.8320775  0.81243272 0.81902583 0.82871367 0.85602799 0.8628902\n",
      " 0.88845533 0.89303014 0.9058127  0.88441873 0.90917653 0.90688913\n",
      " 0.92599569 0.92263186 0.9835845  1.         0.96959096 0.94442949\n",
      " 0.9497391  0.93486416 0.92567647 0.91876763 0.91209978 0.90522683\n",
      " 0.89833665 0.89167404 0.88538837 0.8795498 ]\n",
      "10 day output [[0.8741858]]\n",
      "11 day input [0.66482777 0.68810549 0.70129171 0.67263186 0.65567815 0.6454521\n",
      " 0.6719591  0.65540904 0.64208827 0.64693219 0.64531755 0.63361141\n",
      " 0.62150161 0.62567277 0.6126211  0.64006997 0.64787406 0.65796555\n",
      " 0.6762648  0.68312702 0.72416577 0.76493541 0.77381593 0.70667384\n",
      " 0.74125404 0.73533369 0.69442949 0.63172766 0.62782562 0.65540904\n",
      " 0.65123789 0.6987352  0.69389128 0.71124865 0.71461249 0.73910118\n",
      " 0.70694295 0.7010226  0.71999462 0.70398278 0.7111141  0.71165231\n",
      " 0.70586652 0.71824543 0.73708288 0.76116792 0.72093649 0.74448332\n",
      " 0.76076426 0.7744887  0.78417653 0.77354682 0.77623789 0.76372443\n",
      " 0.73815931 0.69954252 0.69994618 0.7315662  0.76601184 0.73977395\n",
      " 0.75538213 0.77933262 0.82656082 0.80785791 0.82642626 0.72914424\n",
      " 0.73667922 0.76049516 0.75390205 0.78834769 0.81646932 0.8320775\n",
      " 0.81243272 0.81902583 0.82871367 0.85602799 0.8628902  0.88845533\n",
      " 0.89303014 0.9058127  0.88441873 0.90917653 0.90688913 0.92599569\n",
      " 0.92263186 0.9835845  1.         0.96959096 0.94442949 0.9497391\n",
      " 0.93486416 0.92567647 0.91876763 0.91209978 0.90522683 0.89833665\n",
      " 0.89167404 0.88538837 0.8795498  0.8741858 ]\n",
      "11 day output [[0.8693011]]\n",
      "12 day input [0.68810549 0.70129171 0.67263186 0.65567815 0.6454521  0.6719591\n",
      " 0.65540904 0.64208827 0.64693219 0.64531755 0.63361141 0.62150161\n",
      " 0.62567277 0.6126211  0.64006997 0.64787406 0.65796555 0.6762648\n",
      " 0.68312702 0.72416577 0.76493541 0.77381593 0.70667384 0.74125404\n",
      " 0.73533369 0.69442949 0.63172766 0.62782562 0.65540904 0.65123789\n",
      " 0.6987352  0.69389128 0.71124865 0.71461249 0.73910118 0.70694295\n",
      " 0.7010226  0.71999462 0.70398278 0.7111141  0.71165231 0.70586652\n",
      " 0.71824543 0.73708288 0.76116792 0.72093649 0.74448332 0.76076426\n",
      " 0.7744887  0.78417653 0.77354682 0.77623789 0.76372443 0.73815931\n",
      " 0.69954252 0.69994618 0.7315662  0.76601184 0.73977395 0.75538213\n",
      " 0.77933262 0.82656082 0.80785791 0.82642626 0.72914424 0.73667922\n",
      " 0.76049516 0.75390205 0.78834769 0.81646932 0.8320775  0.81243272\n",
      " 0.81902583 0.82871367 0.85602799 0.8628902  0.88845533 0.89303014\n",
      " 0.9058127  0.88441873 0.90917653 0.90688913 0.92599569 0.92263186\n",
      " 0.9835845  1.         0.96959096 0.94442949 0.9497391  0.93486416\n",
      " 0.92567647 0.91876763 0.91209978 0.90522683 0.89833665 0.89167404\n",
      " 0.88538837 0.8795498  0.8741858  0.86930108]\n",
      "12 day output [[0.86488503]]\n",
      "13 day input [0.70129171 0.67263186 0.65567815 0.6454521  0.6719591  0.65540904\n",
      " 0.64208827 0.64693219 0.64531755 0.63361141 0.62150161 0.62567277\n",
      " 0.6126211  0.64006997 0.64787406 0.65796555 0.6762648  0.68312702\n",
      " 0.72416577 0.76493541 0.77381593 0.70667384 0.74125404 0.73533369\n",
      " 0.69442949 0.63172766 0.62782562 0.65540904 0.65123789 0.6987352\n",
      " 0.69389128 0.71124865 0.71461249 0.73910118 0.70694295 0.7010226\n",
      " 0.71999462 0.70398278 0.7111141  0.71165231 0.70586652 0.71824543\n",
      " 0.73708288 0.76116792 0.72093649 0.74448332 0.76076426 0.7744887\n",
      " 0.78417653 0.77354682 0.77623789 0.76372443 0.73815931 0.69954252\n",
      " 0.69994618 0.7315662  0.76601184 0.73977395 0.75538213 0.77933262\n",
      " 0.82656082 0.80785791 0.82642626 0.72914424 0.73667922 0.76049516\n",
      " 0.75390205 0.78834769 0.81646932 0.8320775  0.81243272 0.81902583\n",
      " 0.82871367 0.85602799 0.8628902  0.88845533 0.89303014 0.9058127\n",
      " 0.88441873 0.90917653 0.90688913 0.92599569 0.92263186 0.9835845\n",
      " 1.         0.96959096 0.94442949 0.9497391  0.93486416 0.92567647\n",
      " 0.91876763 0.91209978 0.90522683 0.89833665 0.89167404 0.88538837\n",
      " 0.8795498  0.8741858  0.86930108 0.86488503]\n",
      "13 day output [[0.8609159]]\n",
      "14 day input [0.67263186 0.65567815 0.6454521  0.6719591  0.65540904 0.64208827\n",
      " 0.64693219 0.64531755 0.63361141 0.62150161 0.62567277 0.6126211\n",
      " 0.64006997 0.64787406 0.65796555 0.6762648  0.68312702 0.72416577\n",
      " 0.76493541 0.77381593 0.70667384 0.74125404 0.73533369 0.69442949\n",
      " 0.63172766 0.62782562 0.65540904 0.65123789 0.6987352  0.69389128\n",
      " 0.71124865 0.71461249 0.73910118 0.70694295 0.7010226  0.71999462\n",
      " 0.70398278 0.7111141  0.71165231 0.70586652 0.71824543 0.73708288\n",
      " 0.76116792 0.72093649 0.74448332 0.76076426 0.7744887  0.78417653\n",
      " 0.77354682 0.77623789 0.76372443 0.73815931 0.69954252 0.69994618\n",
      " 0.7315662  0.76601184 0.73977395 0.75538213 0.77933262 0.82656082\n",
      " 0.80785791 0.82642626 0.72914424 0.73667922 0.76049516 0.75390205\n",
      " 0.78834769 0.81646932 0.8320775  0.81243272 0.81902583 0.82871367\n",
      " 0.85602799 0.8628902  0.88845533 0.89303014 0.9058127  0.88441873\n",
      " 0.90917653 0.90688913 0.92599569 0.92263186 0.9835845  1.\n",
      " 0.96959096 0.94442949 0.9497391  0.93486416 0.92567647 0.91876763\n",
      " 0.91209978 0.90522683 0.89833665 0.89167404 0.88538837 0.8795498\n",
      " 0.8741858  0.86930108 0.86488503 0.8609159 ]\n",
      "14 day output [[0.85736275]]\n",
      "15 day input [0.65567815 0.6454521  0.6719591  0.65540904 0.64208827 0.64693219\n",
      " 0.64531755 0.63361141 0.62150161 0.62567277 0.6126211  0.64006997\n",
      " 0.64787406 0.65796555 0.6762648  0.68312702 0.72416577 0.76493541\n",
      " 0.77381593 0.70667384 0.74125404 0.73533369 0.69442949 0.63172766\n",
      " 0.62782562 0.65540904 0.65123789 0.6987352  0.69389128 0.71124865\n",
      " 0.71461249 0.73910118 0.70694295 0.7010226  0.71999462 0.70398278\n",
      " 0.7111141  0.71165231 0.70586652 0.71824543 0.73708288 0.76116792\n",
      " 0.72093649 0.74448332 0.76076426 0.7744887  0.78417653 0.77354682\n",
      " 0.77623789 0.76372443 0.73815931 0.69954252 0.69994618 0.7315662\n",
      " 0.76601184 0.73977395 0.75538213 0.77933262 0.82656082 0.80785791\n",
      " 0.82642626 0.72914424 0.73667922 0.76049516 0.75390205 0.78834769\n",
      " 0.81646932 0.8320775  0.81243272 0.81902583 0.82871367 0.85602799\n",
      " 0.8628902  0.88845533 0.89303014 0.9058127  0.88441873 0.90917653\n",
      " 0.90688913 0.92599569 0.92263186 0.9835845  1.         0.96959096\n",
      " 0.94442949 0.9497391  0.93486416 0.92567647 0.91876763 0.91209978\n",
      " 0.90522683 0.89833665 0.89167404 0.88538837 0.8795498  0.8741858\n",
      " 0.86930108 0.86488503 0.8609159  0.85736275]\n",
      "15 day output [[0.85418886]]\n",
      "16 day input [0.6454521  0.6719591  0.65540904 0.64208827 0.64693219 0.64531755\n",
      " 0.63361141 0.62150161 0.62567277 0.6126211  0.64006997 0.64787406\n",
      " 0.65796555 0.6762648  0.68312702 0.72416577 0.76493541 0.77381593\n",
      " 0.70667384 0.74125404 0.73533369 0.69442949 0.63172766 0.62782562\n",
      " 0.65540904 0.65123789 0.6987352  0.69389128 0.71124865 0.71461249\n",
      " 0.73910118 0.70694295 0.7010226  0.71999462 0.70398278 0.7111141\n",
      " 0.71165231 0.70586652 0.71824543 0.73708288 0.76116792 0.72093649\n",
      " 0.74448332 0.76076426 0.7744887  0.78417653 0.77354682 0.77623789\n",
      " 0.76372443 0.73815931 0.69954252 0.69994618 0.7315662  0.76601184\n",
      " 0.73977395 0.75538213 0.77933262 0.82656082 0.80785791 0.82642626\n",
      " 0.72914424 0.73667922 0.76049516 0.75390205 0.78834769 0.81646932\n",
      " 0.8320775  0.81243272 0.81902583 0.82871367 0.85602799 0.8628902\n",
      " 0.88845533 0.89303014 0.9058127  0.88441873 0.90917653 0.90688913\n",
      " 0.92599569 0.92263186 0.9835845  1.         0.96959096 0.94442949\n",
      " 0.9497391  0.93486416 0.92567647 0.91876763 0.91209978 0.90522683\n",
      " 0.89833665 0.89167404 0.88538837 0.8795498  0.8741858  0.86930108\n",
      " 0.86488503 0.8609159  0.85736275 0.85418886]\n"
     ]
    },
    {
     "name": "stdout",
     "output_type": "stream",
     "text": [
      "16 day output [[0.85135424]]\n",
      "17 day input [0.6719591  0.65540904 0.64208827 0.64693219 0.64531755 0.63361141\n",
      " 0.62150161 0.62567277 0.6126211  0.64006997 0.64787406 0.65796555\n",
      " 0.6762648  0.68312702 0.72416577 0.76493541 0.77381593 0.70667384\n",
      " 0.74125404 0.73533369 0.69442949 0.63172766 0.62782562 0.65540904\n",
      " 0.65123789 0.6987352  0.69389128 0.71124865 0.71461249 0.73910118\n",
      " 0.70694295 0.7010226  0.71999462 0.70398278 0.7111141  0.71165231\n",
      " 0.70586652 0.71824543 0.73708288 0.76116792 0.72093649 0.74448332\n",
      " 0.76076426 0.7744887  0.78417653 0.77354682 0.77623789 0.76372443\n",
      " 0.73815931 0.69954252 0.69994618 0.7315662  0.76601184 0.73977395\n",
      " 0.75538213 0.77933262 0.82656082 0.80785791 0.82642626 0.72914424\n",
      " 0.73667922 0.76049516 0.75390205 0.78834769 0.81646932 0.8320775\n",
      " 0.81243272 0.81902583 0.82871367 0.85602799 0.8628902  0.88845533\n",
      " 0.89303014 0.9058127  0.88441873 0.90917653 0.90688913 0.92599569\n",
      " 0.92263186 0.9835845  1.         0.96959096 0.94442949 0.9497391\n",
      " 0.93486416 0.92567647 0.91876763 0.91209978 0.90522683 0.89833665\n",
      " 0.89167404 0.88538837 0.8795498  0.8741858  0.86930108 0.86488503\n",
      " 0.8609159  0.85736275 0.85418886 0.85135424]\n",
      "17 day output [[0.84881747]]\n",
      "18 day input [0.65540904 0.64208827 0.64693219 0.64531755 0.63361141 0.62150161\n",
      " 0.62567277 0.6126211  0.64006997 0.64787406 0.65796555 0.6762648\n",
      " 0.68312702 0.72416577 0.76493541 0.77381593 0.70667384 0.74125404\n",
      " 0.73533369 0.69442949 0.63172766 0.62782562 0.65540904 0.65123789\n",
      " 0.6987352  0.69389128 0.71124865 0.71461249 0.73910118 0.70694295\n",
      " 0.7010226  0.71999462 0.70398278 0.7111141  0.71165231 0.70586652\n",
      " 0.71824543 0.73708288 0.76116792 0.72093649 0.74448332 0.76076426\n",
      " 0.7744887  0.78417653 0.77354682 0.77623789 0.76372443 0.73815931\n",
      " 0.69954252 0.69994618 0.7315662  0.76601184 0.73977395 0.75538213\n",
      " 0.77933262 0.82656082 0.80785791 0.82642626 0.72914424 0.73667922\n",
      " 0.76049516 0.75390205 0.78834769 0.81646932 0.8320775  0.81243272\n",
      " 0.81902583 0.82871367 0.85602799 0.8628902  0.88845533 0.89303014\n",
      " 0.9058127  0.88441873 0.90917653 0.90688913 0.92599569 0.92263186\n",
      " 0.9835845  1.         0.96959096 0.94442949 0.9497391  0.93486416\n",
      " 0.92567647 0.91876763 0.91209978 0.90522683 0.89833665 0.89167404\n",
      " 0.88538837 0.8795498  0.8741858  0.86930108 0.86488503 0.8609159\n",
      " 0.85736275 0.85418886 0.85135424 0.84881747]\n",
      "18 day output [[0.84653723]]\n",
      "19 day input [0.64208827 0.64693219 0.64531755 0.63361141 0.62150161 0.62567277\n",
      " 0.6126211  0.64006997 0.64787406 0.65796555 0.6762648  0.68312702\n",
      " 0.72416577 0.76493541 0.77381593 0.70667384 0.74125404 0.73533369\n",
      " 0.69442949 0.63172766 0.62782562 0.65540904 0.65123789 0.6987352\n",
      " 0.69389128 0.71124865 0.71461249 0.73910118 0.70694295 0.7010226\n",
      " 0.71999462 0.70398278 0.7111141  0.71165231 0.70586652 0.71824543\n",
      " 0.73708288 0.76116792 0.72093649 0.74448332 0.76076426 0.7744887\n",
      " 0.78417653 0.77354682 0.77623789 0.76372443 0.73815931 0.69954252\n",
      " 0.69994618 0.7315662  0.76601184 0.73977395 0.75538213 0.77933262\n",
      " 0.82656082 0.80785791 0.82642626 0.72914424 0.73667922 0.76049516\n",
      " 0.75390205 0.78834769 0.81646932 0.8320775  0.81243272 0.81902583\n",
      " 0.82871367 0.85602799 0.8628902  0.88845533 0.89303014 0.9058127\n",
      " 0.88441873 0.90917653 0.90688913 0.92599569 0.92263186 0.9835845\n",
      " 1.         0.96959096 0.94442949 0.9497391  0.93486416 0.92567647\n",
      " 0.91876763 0.91209978 0.90522683 0.89833665 0.89167404 0.88538837\n",
      " 0.8795498  0.8741858  0.86930108 0.86488503 0.8609159  0.85736275\n",
      " 0.85418886 0.85135424 0.84881747 0.84653723]\n",
      "19 day output [[0.8444738]]\n",
      "20 day input [0.64693219 0.64531755 0.63361141 0.62150161 0.62567277 0.6126211\n",
      " 0.64006997 0.64787406 0.65796555 0.6762648  0.68312702 0.72416577\n",
      " 0.76493541 0.77381593 0.70667384 0.74125404 0.73533369 0.69442949\n",
      " 0.63172766 0.62782562 0.65540904 0.65123789 0.6987352  0.69389128\n",
      " 0.71124865 0.71461249 0.73910118 0.70694295 0.7010226  0.71999462\n",
      " 0.70398278 0.7111141  0.71165231 0.70586652 0.71824543 0.73708288\n",
      " 0.76116792 0.72093649 0.74448332 0.76076426 0.7744887  0.78417653\n",
      " 0.77354682 0.77623789 0.76372443 0.73815931 0.69954252 0.69994618\n",
      " 0.7315662  0.76601184 0.73977395 0.75538213 0.77933262 0.82656082\n",
      " 0.80785791 0.82642626 0.72914424 0.73667922 0.76049516 0.75390205\n",
      " 0.78834769 0.81646932 0.8320775  0.81243272 0.81902583 0.82871367\n",
      " 0.85602799 0.8628902  0.88845533 0.89303014 0.9058127  0.88441873\n",
      " 0.90917653 0.90688913 0.92599569 0.92263186 0.9835845  1.\n",
      " 0.96959096 0.94442949 0.9497391  0.93486416 0.92567647 0.91876763\n",
      " 0.91209978 0.90522683 0.89833665 0.89167404 0.88538837 0.8795498\n",
      " 0.8741858  0.86930108 0.86488503 0.8609159  0.85736275 0.85418886\n",
      " 0.85135424 0.84881747 0.84653723 0.84447378]\n",
      "20 day output [[0.8425891]]\n",
      "21 day input [0.64531755 0.63361141 0.62150161 0.62567277 0.6126211  0.64006997\n",
      " 0.64787406 0.65796555 0.6762648  0.68312702 0.72416577 0.76493541\n",
      " 0.77381593 0.70667384 0.74125404 0.73533369 0.69442949 0.63172766\n",
      " 0.62782562 0.65540904 0.65123789 0.6987352  0.69389128 0.71124865\n",
      " 0.71461249 0.73910118 0.70694295 0.7010226  0.71999462 0.70398278\n",
      " 0.7111141  0.71165231 0.70586652 0.71824543 0.73708288 0.76116792\n",
      " 0.72093649 0.74448332 0.76076426 0.7744887  0.78417653 0.77354682\n",
      " 0.77623789 0.76372443 0.73815931 0.69954252 0.69994618 0.7315662\n",
      " 0.76601184 0.73977395 0.75538213 0.77933262 0.82656082 0.80785791\n",
      " 0.82642626 0.72914424 0.73667922 0.76049516 0.75390205 0.78834769\n",
      " 0.81646932 0.8320775  0.81243272 0.81902583 0.82871367 0.85602799\n",
      " 0.8628902  0.88845533 0.89303014 0.9058127  0.88441873 0.90917653\n",
      " 0.90688913 0.92599569 0.92263186 0.9835845  1.         0.96959096\n",
      " 0.94442949 0.9497391  0.93486416 0.92567647 0.91876763 0.91209978\n",
      " 0.90522683 0.89833665 0.89167404 0.88538837 0.8795498  0.8741858\n",
      " 0.86930108 0.86488503 0.8609159  0.85736275 0.85418886 0.85135424\n",
      " 0.84881747 0.84653723 0.84447378 0.84258908]\n",
      "21 day output [[0.8408483]]\n",
      "22 day input [0.63361141 0.62150161 0.62567277 0.6126211  0.64006997 0.64787406\n",
      " 0.65796555 0.6762648  0.68312702 0.72416577 0.76493541 0.77381593\n",
      " 0.70667384 0.74125404 0.73533369 0.69442949 0.63172766 0.62782562\n",
      " 0.65540904 0.65123789 0.6987352  0.69389128 0.71124865 0.71461249\n",
      " 0.73910118 0.70694295 0.7010226  0.71999462 0.70398278 0.7111141\n",
      " 0.71165231 0.70586652 0.71824543 0.73708288 0.76116792 0.72093649\n",
      " 0.74448332 0.76076426 0.7744887  0.78417653 0.77354682 0.77623789\n",
      " 0.76372443 0.73815931 0.69954252 0.69994618 0.7315662  0.76601184\n",
      " 0.73977395 0.75538213 0.77933262 0.82656082 0.80785791 0.82642626\n",
      " 0.72914424 0.73667922 0.76049516 0.75390205 0.78834769 0.81646932\n",
      " 0.8320775  0.81243272 0.81902583 0.82871367 0.85602799 0.8628902\n",
      " 0.88845533 0.89303014 0.9058127  0.88441873 0.90917653 0.90688913\n",
      " 0.92599569 0.92263186 0.9835845  1.         0.96959096 0.94442949\n",
      " 0.9497391  0.93486416 0.92567647 0.91876763 0.91209978 0.90522683\n",
      " 0.89833665 0.89167404 0.88538837 0.8795498  0.8741858  0.86930108\n",
      " 0.86488503 0.8609159  0.85736275 0.85418886 0.85135424 0.84881747\n",
      " 0.84653723 0.84447378 0.84258908 0.84084833]\n",
      "22 day output [[0.83921945]]\n",
      "23 day input [0.62150161 0.62567277 0.6126211  0.64006997 0.64787406 0.65796555\n",
      " 0.6762648  0.68312702 0.72416577 0.76493541 0.77381593 0.70667384\n",
      " 0.74125404 0.73533369 0.69442949 0.63172766 0.62782562 0.65540904\n",
      " 0.65123789 0.6987352  0.69389128 0.71124865 0.71461249 0.73910118\n",
      " 0.70694295 0.7010226  0.71999462 0.70398278 0.7111141  0.71165231\n",
      " 0.70586652 0.71824543 0.73708288 0.76116792 0.72093649 0.74448332\n",
      " 0.76076426 0.7744887  0.78417653 0.77354682 0.77623789 0.76372443\n",
      " 0.73815931 0.69954252 0.69994618 0.7315662  0.76601184 0.73977395\n",
      " 0.75538213 0.77933262 0.82656082 0.80785791 0.82642626 0.72914424\n",
      " 0.73667922 0.76049516 0.75390205 0.78834769 0.81646932 0.8320775\n",
      " 0.81243272 0.81902583 0.82871367 0.85602799 0.8628902  0.88845533\n",
      " 0.89303014 0.9058127  0.88441873 0.90917653 0.90688913 0.92599569\n",
      " 0.92263186 0.9835845  1.         0.96959096 0.94442949 0.9497391\n",
      " 0.93486416 0.92567647 0.91876763 0.91209978 0.90522683 0.89833665\n",
      " 0.89167404 0.88538837 0.8795498  0.8741858  0.86930108 0.86488503\n",
      " 0.8609159  0.85736275 0.85418886 0.85135424 0.84881747 0.84653723\n",
      " 0.84447378 0.84258908 0.84084833 0.83921945]\n",
      "23 day output [[0.8376744]]\n",
      "24 day input [0.62567277 0.6126211  0.64006997 0.64787406 0.65796555 0.6762648\n",
      " 0.68312702 0.72416577 0.76493541 0.77381593 0.70667384 0.74125404\n",
      " 0.73533369 0.69442949 0.63172766 0.62782562 0.65540904 0.65123789\n",
      " 0.6987352  0.69389128 0.71124865 0.71461249 0.73910118 0.70694295\n",
      " 0.7010226  0.71999462 0.70398278 0.7111141  0.71165231 0.70586652\n",
      " 0.71824543 0.73708288 0.76116792 0.72093649 0.74448332 0.76076426\n",
      " 0.7744887  0.78417653 0.77354682 0.77623789 0.76372443 0.73815931\n",
      " 0.69954252 0.69994618 0.7315662  0.76601184 0.73977395 0.75538213\n",
      " 0.77933262 0.82656082 0.80785791 0.82642626 0.72914424 0.73667922\n",
      " 0.76049516 0.75390205 0.78834769 0.81646932 0.8320775  0.81243272\n",
      " 0.81902583 0.82871367 0.85602799 0.8628902  0.88845533 0.89303014\n",
      " 0.9058127  0.88441873 0.90917653 0.90688913 0.92599569 0.92263186\n",
      " 0.9835845  1.         0.96959096 0.94442949 0.9497391  0.93486416\n",
      " 0.92567647 0.91876763 0.91209978 0.90522683 0.89833665 0.89167404\n",
      " 0.88538837 0.8795498  0.8741858  0.86930108 0.86488503 0.8609159\n",
      " 0.85736275 0.85418886 0.85135424 0.84881747 0.84653723 0.84447378\n",
      " 0.84258908 0.84084833 0.83921945 0.83767438]\n"
     ]
    },
    {
     "name": "stdout",
     "output_type": "stream",
     "text": [
      "24 day output [[0.8361882]]\n",
      "25 day input [0.6126211  0.64006997 0.64787406 0.65796555 0.6762648  0.68312702\n",
      " 0.72416577 0.76493541 0.77381593 0.70667384 0.74125404 0.73533369\n",
      " 0.69442949 0.63172766 0.62782562 0.65540904 0.65123789 0.6987352\n",
      " 0.69389128 0.71124865 0.71461249 0.73910118 0.70694295 0.7010226\n",
      " 0.71999462 0.70398278 0.7111141  0.71165231 0.70586652 0.71824543\n",
      " 0.73708288 0.76116792 0.72093649 0.74448332 0.76076426 0.7744887\n",
      " 0.78417653 0.77354682 0.77623789 0.76372443 0.73815931 0.69954252\n",
      " 0.69994618 0.7315662  0.76601184 0.73977395 0.75538213 0.77933262\n",
      " 0.82656082 0.80785791 0.82642626 0.72914424 0.73667922 0.76049516\n",
      " 0.75390205 0.78834769 0.81646932 0.8320775  0.81243272 0.81902583\n",
      " 0.82871367 0.85602799 0.8628902  0.88845533 0.89303014 0.9058127\n",
      " 0.88441873 0.90917653 0.90688913 0.92599569 0.92263186 0.9835845\n",
      " 1.         0.96959096 0.94442949 0.9497391  0.93486416 0.92567647\n",
      " 0.91876763 0.91209978 0.90522683 0.89833665 0.89167404 0.88538837\n",
      " 0.8795498  0.8741858  0.86930108 0.86488503 0.8609159  0.85736275\n",
      " 0.85418886 0.85135424 0.84881747 0.84653723 0.84447378 0.84258908\n",
      " 0.84084833 0.83921945 0.83767438 0.8361882 ]\n",
      "25 day output [[0.8347399]]\n",
      "26 day input [0.64006997 0.64787406 0.65796555 0.6762648  0.68312702 0.72416577\n",
      " 0.76493541 0.77381593 0.70667384 0.74125404 0.73533369 0.69442949\n",
      " 0.63172766 0.62782562 0.65540904 0.65123789 0.6987352  0.69389128\n",
      " 0.71124865 0.71461249 0.73910118 0.70694295 0.7010226  0.71999462\n",
      " 0.70398278 0.7111141  0.71165231 0.70586652 0.71824543 0.73708288\n",
      " 0.76116792 0.72093649 0.74448332 0.76076426 0.7744887  0.78417653\n",
      " 0.77354682 0.77623789 0.76372443 0.73815931 0.69954252 0.69994618\n",
      " 0.7315662  0.76601184 0.73977395 0.75538213 0.77933262 0.82656082\n",
      " 0.80785791 0.82642626 0.72914424 0.73667922 0.76049516 0.75390205\n",
      " 0.78834769 0.81646932 0.8320775  0.81243272 0.81902583 0.82871367\n",
      " 0.85602799 0.8628902  0.88845533 0.89303014 0.9058127  0.88441873\n",
      " 0.90917653 0.90688913 0.92599569 0.92263186 0.9835845  1.\n",
      " 0.96959096 0.94442949 0.9497391  0.93486416 0.92567647 0.91876763\n",
      " 0.91209978 0.90522683 0.89833665 0.89167404 0.88538837 0.8795498\n",
      " 0.8741858  0.86930108 0.86488503 0.8609159  0.85736275 0.85418886\n",
      " 0.85135424 0.84881747 0.84653723 0.84447378 0.84258908 0.84084833\n",
      " 0.83921945 0.83767438 0.8361882  0.83473992]\n",
      "26 day output [[0.8333123]]\n",
      "27 day input [0.64787406 0.65796555 0.6762648  0.68312702 0.72416577 0.76493541\n",
      " 0.77381593 0.70667384 0.74125404 0.73533369 0.69442949 0.63172766\n",
      " 0.62782562 0.65540904 0.65123789 0.6987352  0.69389128 0.71124865\n",
      " 0.71461249 0.73910118 0.70694295 0.7010226  0.71999462 0.70398278\n",
      " 0.7111141  0.71165231 0.70586652 0.71824543 0.73708288 0.76116792\n",
      " 0.72093649 0.74448332 0.76076426 0.7744887  0.78417653 0.77354682\n",
      " 0.77623789 0.76372443 0.73815931 0.69954252 0.69994618 0.7315662\n",
      " 0.76601184 0.73977395 0.75538213 0.77933262 0.82656082 0.80785791\n",
      " 0.82642626 0.72914424 0.73667922 0.76049516 0.75390205 0.78834769\n",
      " 0.81646932 0.8320775  0.81243272 0.81902583 0.82871367 0.85602799\n",
      " 0.8628902  0.88845533 0.89303014 0.9058127  0.88441873 0.90917653\n",
      " 0.90688913 0.92599569 0.92263186 0.9835845  1.         0.96959096\n",
      " 0.94442949 0.9497391  0.93486416 0.92567647 0.91876763 0.91209978\n",
      " 0.90522683 0.89833665 0.89167404 0.88538837 0.8795498  0.8741858\n",
      " 0.86930108 0.86488503 0.8609159  0.85736275 0.85418886 0.85135424\n",
      " 0.84881747 0.84653723 0.84447378 0.84258908 0.84084833 0.83921945\n",
      " 0.83767438 0.8361882  0.83473992 0.83331227]\n",
      "27 day output [[0.8318907]]\n",
      "28 day input [0.65796555 0.6762648  0.68312702 0.72416577 0.76493541 0.77381593\n",
      " 0.70667384 0.74125404 0.73533369 0.69442949 0.63172766 0.62782562\n",
      " 0.65540904 0.65123789 0.6987352  0.69389128 0.71124865 0.71461249\n",
      " 0.73910118 0.70694295 0.7010226  0.71999462 0.70398278 0.7111141\n",
      " 0.71165231 0.70586652 0.71824543 0.73708288 0.76116792 0.72093649\n",
      " 0.74448332 0.76076426 0.7744887  0.78417653 0.77354682 0.77623789\n",
      " 0.76372443 0.73815931 0.69954252 0.69994618 0.7315662  0.76601184\n",
      " 0.73977395 0.75538213 0.77933262 0.82656082 0.80785791 0.82642626\n",
      " 0.72914424 0.73667922 0.76049516 0.75390205 0.78834769 0.81646932\n",
      " 0.8320775  0.81243272 0.81902583 0.82871367 0.85602799 0.8628902\n",
      " 0.88845533 0.89303014 0.9058127  0.88441873 0.90917653 0.90688913\n",
      " 0.92599569 0.92263186 0.9835845  1.         0.96959096 0.94442949\n",
      " 0.9497391  0.93486416 0.92567647 0.91876763 0.91209978 0.90522683\n",
      " 0.89833665 0.89167404 0.88538837 0.8795498  0.8741858  0.86930108\n",
      " 0.86488503 0.8609159  0.85736275 0.85418886 0.85135424 0.84881747\n",
      " 0.84653723 0.84447378 0.84258908 0.84084833 0.83921945 0.83767438\n",
      " 0.8361882  0.83473992 0.83331227 0.8318907 ]\n",
      "28 day output [[0.83046436]]\n",
      "29 day input [0.6762648  0.68312702 0.72416577 0.76493541 0.77381593 0.70667384\n",
      " 0.74125404 0.73533369 0.69442949 0.63172766 0.62782562 0.65540904\n",
      " 0.65123789 0.6987352  0.69389128 0.71124865 0.71461249 0.73910118\n",
      " 0.70694295 0.7010226  0.71999462 0.70398278 0.7111141  0.71165231\n",
      " 0.70586652 0.71824543 0.73708288 0.76116792 0.72093649 0.74448332\n",
      " 0.76076426 0.7744887  0.78417653 0.77354682 0.77623789 0.76372443\n",
      " 0.73815931 0.69954252 0.69994618 0.7315662  0.76601184 0.73977395\n",
      " 0.75538213 0.77933262 0.82656082 0.80785791 0.82642626 0.72914424\n",
      " 0.73667922 0.76049516 0.75390205 0.78834769 0.81646932 0.8320775\n",
      " 0.81243272 0.81902583 0.82871367 0.85602799 0.8628902  0.88845533\n",
      " 0.89303014 0.9058127  0.88441873 0.90917653 0.90688913 0.92599569\n",
      " 0.92263186 0.9835845  1.         0.96959096 0.94442949 0.9497391\n",
      " 0.93486416 0.92567647 0.91876763 0.91209978 0.90522683 0.89833665\n",
      " 0.89167404 0.88538837 0.8795498  0.8741858  0.86930108 0.86488503\n",
      " 0.8609159  0.85736275 0.85418886 0.85135424 0.84881747 0.84653723\n",
      " 0.84447378 0.84258908 0.84084833 0.83921945 0.83767438 0.8361882\n",
      " 0.83473992 0.83331227 0.8318907  0.83046436]\n",
      "29 day output [[0.8290253]]\n",
      "[[0.9497390985488892], [0.9348641633987427], [0.9256764650344849], [0.9187676310539246], [0.9120997786521912], [0.9052268266677856], [0.89833664894104], [0.8916740417480469], [0.8853883743286133], [0.8795498013496399], [0.8741858005523682], [0.8693010807037354], [0.8648850321769714], [0.8609158992767334], [0.8573627471923828], [0.854188859462738], [0.8513542413711548], [0.8488174676895142], [0.8465372323989868], [0.8444737792015076], [0.8425890803337097], [0.8408483266830444], [0.8392194509506226], [0.8376743793487549], [0.8361881971359253], [0.8347399234771729], [0.8333122730255127], [0.8318907022476196], [0.8304643630981445], [0.8290253281593323]]\n"
     ]
    }
   ],
   "source": [
    "# demonstrate prediction for next 10 days\n",
    "from numpy import array\n",
    "\n",
    "lst_output=[]\n",
    "n_steps=100\n",
    "i=0\n",
    "while(i<30):\n",
    "    \n",
    "    if(len(temp_input)>100):\n",
    "        #print(temp_input)\n",
    "        x_input=np.array(temp_input[1:])\n",
    "        print(\"{} day input {}\".format(i,x_input))\n",
    "        x_input=x_input.reshape(1,-1)\n",
    "        x_input = x_input.reshape((1, n_steps, 1))\n",
    "        #print(x_input)\n",
    "        yhat = model.predict(x_input, verbose=0)\n",
    "        print(\"{} day output {}\".format(i,yhat))\n",
    "        temp_input.extend(yhat[0].tolist())\n",
    "        temp_input=temp_input[1:]\n",
    "        #print(temp_input)\n",
    "        lst_output.extend(yhat.tolist())\n",
    "        i=i+1\n",
    "    else:\n",
    "        x_input = x_input.reshape((1, n_steps,1))\n",
    "        yhat = model.predict(x_input, verbose=0)\n",
    "        print(yhat[0])\n",
    "        temp_input.extend(yhat[0].tolist())\n",
    "        print(len(temp_input))\n",
    "        lst_output.extend(yhat.tolist())\n",
    "        i=i+1\n",
    "    \n",
    "\n",
    "print(lst_output)"
   ]
  },
  {
   "cell_type": "code",
   "execution_count": 97,
   "id": "dfa5eb36",
   "metadata": {},
   "outputs": [],
   "source": [
    "day_new=np.arange(1,101)\n",
    "day_pred=np.arange(101,131)"
   ]
  },
  {
   "cell_type": "code",
   "execution_count": 98,
   "id": "f444fdad",
   "metadata": {},
   "outputs": [
    {
     "data": {
      "text/plain": [
       "5647"
      ]
     },
     "execution_count": 98,
     "metadata": {},
     "output_type": "execute_result"
    }
   ],
   "source": [
    "len(df1)"
   ]
  },
  {
   "cell_type": "code",
   "execution_count": 99,
   "id": "f90a7cc0",
   "metadata": {
    "scrolled": true
   },
   "outputs": [
    {
     "data": {
      "text/plain": [
       "[<matplotlib.lines.Line2D at 0x2951d699be0>]"
      ]
     },
     "execution_count": 99,
     "metadata": {},
     "output_type": "execute_result"
    },
    {
     "data": {
      "image/png": "[encoded data removed]",
      "text/plain": [
       "<Figure size 432x288 with 1 Axes>"
      ]
     },
     "metadata": {
      "needs_background": "light"
     },
     "output_type": "display_data"
    }
   ],
   "source": [
    "plt.plot(day_new,scaler.inverse_transform(df1[5547:]))\n",
    "plt.plot(day_pred,scaler.inverse_transform(lst_output))"
   ]
  },
  {
   "cell_type": "markdown",
   "id": "b434e876",
   "metadata": {},
   "source": [
    "#### Better visualizing the plot"
   ]
  },
  {
   "cell_type": "code",
   "execution_count": 105,
   "id": "139c1101",
   "metadata": {},
   "outputs": [
    {
     "data": {
      "text/plain": [
       "[<matplotlib.lines.Line2D at 0x2951d8170a0>]"
      ]
     },
     "execution_count": 105,
     "metadata": {},
     "output_type": "execute_result"
    },
    {
     "data": {
      "image/png": "[encoded data removed]",
      "text/plain": [
       "<Figure size 432x288 with 1 Axes>"
      ]
     },
     "metadata": {
      "needs_background": "light"
     },
     "output_type": "display_data"
    }
   ],
   "source": [
    "df3=df1.tolist()\n",
    "df3.extend(lst_output)\n",
    "plt.plot(df3[5600:])"
   ]
  },
  {
   "cell_type": "code",
   "execution_count": null,
   "id": "5a807407",
   "metadata": {},
   "outputs": [],
   "source": []
  }
 ],
 "metadata": {
  "kernelspec": {
   "display_name": "Python 3",
   "language": "python",
   "name": "python3"
  },
  "language_info": {
   "codemirror_mode": {
    "name": "ipython",
    "version": 3
   },
   "file_extension": ".py",
   "mimetype": "text/x-python",
   "name": "python",
   "nbconvert_exporter": "python",
   "pygments_lexer": "ipython3",
   "version": "3.8.8"
  }
 },
 "nbformat": 4,
 "nbformat_minor": 5
}
