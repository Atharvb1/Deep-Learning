{
 "cells": [
  {
   "cell_type": "markdown",
   "metadata": {
    "id": "o52tChVEaVlp"
   },
   "source": [
    "# Recurrent Neural Network"
   ]
  },
  {
   "cell_type": "markdown",
   "metadata": {
    "id": "mOIswCzAbW6L"
   },
   "source": [
    "## Part 1 - Data Preprocessing\n"
   ]
  },
  {
   "cell_type": "markdown",
   "metadata": {
    "id": "IkM2F_qNbayQ"
   },
   "source": [
    "### Importing the libraries\n"
   ]
  },
  {
   "cell_type": "code",
   "execution_count": 1,
   "metadata": {
    "id": "0RoyJEJOaUJX"
   },
   "outputs": [],
   "source": [
    "import numpy as np\n",
    "import matplotlib.pyplot as plt\n",
    "import pandas as pd"
   ]
  },
  {
   "cell_type": "markdown",
   "metadata": {
    "id": "1YiUWf-nbjqH"
   },
   "source": [
    "### Importing the training set"
   ]
  },
  {
   "cell_type": "code",
   "execution_count": 2,
   "metadata": {
    "id": "3-sJ4cDdbkar"
   },
   "outputs": [],
   "source": [
    "dataset_train = pd.read_csv('Google_Stock_Price_Train.csv')\n",
    "training_set = dataset_train.iloc[:, 1:2].values\n",
    "#.values to create numpy aaray as NN expects array as an input"
   ]
  },
  {
   "cell_type": "markdown",
   "metadata": {
    "id": "2AifZjQFbqht"
   },
   "source": [
    "### Feature Scaling"
   ]
  },
  {
   "cell_type": "code",
   "execution_count": 3,
   "metadata": {
    "id": "bqs8OfjLbkd3"
   },
   "outputs": [],
   "source": [
    "from sklearn.preprocessing import MinMaxScaler\n",
    "sc = MinMaxScaler(feature_range = (0, 1)) #default\n",
    "training_set_scaled = sc.fit_transform(training_set) #all values are between 0 and 1"
   ]
  },
  {
   "cell_type": "markdown",
   "metadata": {
    "id": "8ZxISH1BbyWG"
   },
   "source": [
    "### Creating a data structure with 60 timesteps and 1 output"
   ]
  },
  {
   "cell_type": "code",
   "execution_count": 4,
   "metadata": {
    "id": "m17xaGBMbyrf"
   },
   "outputs": [],
   "source": [
    "X_train = []\n",
    "y_train = []\n",
    "for i in range(60, 1258):\n",
    "    X_train.append(training_set_scaled[i-60:i, 0])\n",
    "    y_train.append(training_set_scaled[i, 0])\n",
    "X_train, y_train = np.array(X_train), np.array(y_train)"
   ]
  },
  {
   "cell_type": "markdown",
   "metadata": {
    "id": "OmEk3gxBby8P"
   },
   "source": [
    "### Reshaping"
   ]
  },
  {
   "cell_type": "code",
   "execution_count": 40,
   "metadata": {
    "id": "31rdvphObzNG"
   },
   "outputs": [],
   "source": [
    "X_train = np.reshape(X_train, (X_train.shape[0], X_train.shape[1], 1))\n",
    "# we have 1 indicator\n",
    "# 3D tensor with shape (batch size, timesteps, indicators)"
   ]
  },
  {
   "cell_type": "markdown",
   "metadata": {
    "id": "i128jP0_cJmT"
   },
   "source": [
    "## Part 2 - Building the RNN"
   ]
  },
  {
   "cell_type": "markdown",
   "metadata": {
    "id": "mx_hB4X1cMyo"
   },
   "source": [
    "### Importing the Keras libraries and packages"
   ]
  },
  {
   "cell_type": "code",
   "execution_count": 6,
   "metadata": {
    "id": "Wn3RoisJcJ0y"
   },
   "outputs": [],
   "source": [
    "from keras.models import Sequential\n",
    "from keras.layers import Dense\n",
    "from keras.layers import LSTM\n",
    "from keras.layers import Dropout"
   ]
  },
  {
   "cell_type": "markdown",
   "metadata": {
    "id": "0TMKH0MlcKHv"
   },
   "source": [
    "### Initialising the RNN"
   ]
  },
  {
   "cell_type": "code",
   "execution_count": 7,
   "metadata": {
    "id": "4lTyP_i-cKbB"
   },
   "outputs": [],
   "source": [
    "regressor = Sequential()"
   ]
  },
  {
   "cell_type": "markdown",
   "metadata": {
    "id": "vUH-gPvccY9o"
   },
   "source": [
    "### Adding the first LSTM layer and some Dropout regularisation"
   ]
  },
  {
   "cell_type": "code",
   "execution_count": 8,
   "metadata": {
    "id": "HuHs6IbMcZLG"
   },
   "outputs": [],
   "source": [
    "regressor.add(LSTM(units = 50, return_sequences = True, input_shape = (X_train.shape[1], 1)))\n",
    "regressor.add(Dropout(0.2))\n",
    "# Units=50- No.  of LSTM cells/No. of neurons\n",
    "# when you add multiple LSTM layers set return_sequences= True at final LSTM layer set it false which is it's default value\n",
    "# we add dropout regularisation to avoid overfitting\n",
    "# Rate of neurons you want to drop/ignore in reguralisation 0.2(20%) is ideal no."
   ]
  },
  {
   "cell_type": "markdown",
   "metadata": {
    "id": "_hki2XL1cZcE"
   },
   "source": [
    "### Adding a second LSTM layer and some Dropout regularisation"
   ]
  },
  {
   "cell_type": "code",
   "execution_count": 10,
   "metadata": {
    "id": "1v52ahMwc9lr"
   },
   "outputs": [],
   "source": [
    "regressor.add(LSTM(units = 50, return_sequences = True))\n",
    "regressor.add(Dropout(0.2))"
   ]
  },
  {
   "cell_type": "markdown",
   "metadata": {
    "id": "VZBWNaYpdBZQ"
   },
   "source": [
    "### Adding a third LSTM layer and some Dropout regularisation"
   ]
  },
  {
   "cell_type": "code",
   "execution_count": 11,
   "metadata": {
    "id": "vbDn1cP4dAxS"
   },
   "outputs": [],
   "source": [
    "regressor.add(LSTM(units = 50, return_sequences = True))\n",
    "regressor.add(Dropout(0.2))"
   ]
  },
  {
   "cell_type": "markdown",
   "metadata": {
    "id": "EUbzgEoedBly"
   },
   "source": [
    "### Adding a fourth LSTM layer and some Dropout regularisation"
   ]
  },
  {
   "cell_type": "code",
   "execution_count": 12,
   "metadata": {
    "id": "aX0zZ3GDdDp3"
   },
   "outputs": [],
   "source": [
    "regressor.add(LSTM(units = 50))\n",
    "regressor.add(Dropout(0.2))"
   ]
  },
  {
   "cell_type": "markdown",
   "metadata": {
    "id": "MFHMFn_udOl5"
   },
   "source": [
    "### Adding the output layer"
   ]
  },
  {
   "cell_type": "code",
   "execution_count": 13,
   "metadata": {
    "id": "zRSHcjr4dO0P"
   },
   "outputs": [],
   "source": [
    "regressor.add(Dense(units = 1))"
   ]
  },
  {
   "cell_type": "markdown",
   "metadata": {
    "id": "eA7H3lI8dPB7"
   },
   "source": [
    "### Compiling the RNN"
   ]
  },
  {
   "cell_type": "code",
   "execution_count": 14,
   "metadata": {
    "id": "mNqpZBQ5dPQ0"
   },
   "outputs": [],
   "source": [
    "regressor.compile(optimizer = 'adam', loss = 'mean_squared_error')"
   ]
  },
  {
   "cell_type": "markdown",
   "metadata": {
    "id": "RvOxHMPZdPeD"
   },
   "source": [
    "### Fitting the RNN to the Training set"
   ]
  },
  {
   "cell_type": "code",
   "execution_count": 15,
   "metadata": {
    "colab": {
     "base_uri": "https://localhost:8080/"
    },
    "id": "XzG_4iGqdPyM",
    "outputId": "2c39a1d0-e8ae-4442-854d-f9698ed681a4"
   },
   "outputs": [
    {
     "name": "stdout",
     "output_type": "stream",
     "text": [
      "Epoch 1/100\n",
      "38/38 [==============================] - 21s 136ms/step - loss: 0.0467\n",
      "Epoch 2/100\n",
      "38/38 [==============================] - 5s 133ms/step - loss: 0.0084\n",
      "Epoch 3/100\n",
      "38/38 [==============================] - 5s 136ms/step - loss: 0.0064\n",
      "Epoch 4/100\n",
      "38/38 [==============================] - 5s 135ms/step - loss: 0.0056\n",
      "Epoch 5/100\n",
      "38/38 [==============================] - 5s 134ms/step - loss: 0.0052\n",
      "Epoch 6/100\n",
      "38/38 [==============================] - 5s 136ms/step - loss: 0.0051\n",
      "Epoch 7/100\n",
      "38/38 [==============================] - 5s 142ms/step - loss: 0.0049\n",
      "Epoch 8/100\n",
      "38/38 [==============================] - 5s 135ms/step - loss: 0.0055\n",
      "Epoch 9/100\n",
      "38/38 [==============================] - 5s 136ms/step - loss: 0.0045\n",
      "Epoch 10/100\n",
      "38/38 [==============================] - 5s 136ms/step - loss: 0.0049\n",
      "Epoch 11/100\n",
      "38/38 [==============================] - 5s 133ms/step - loss: 0.0043\n",
      "Epoch 12/100\n",
      "38/38 [==============================] - 5s 135ms/step - loss: 0.0040\n",
      "Epoch 13/100\n",
      "38/38 [==============================] - 5s 137ms/step - loss: 0.0048\n",
      "Epoch 14/100\n",
      "38/38 [==============================] - 5s 135ms/step - loss: 0.0041\n",
      "Epoch 15/100\n",
      "38/38 [==============================] - 5s 143ms/step - loss: 0.0044\n",
      "Epoch 16/100\n",
      "38/38 [==============================] - 6s 151ms/step - loss: 0.0041\n",
      "Epoch 17/100\n",
      "38/38 [==============================] - 5s 139ms/step - loss: 0.0037\n",
      "Epoch 18/100\n",
      "38/38 [==============================] - 5s 137ms/step - loss: 0.0037\n",
      "Epoch 19/100\n",
      "38/38 [==============================] - 5s 138ms/step - loss: 0.0038\n",
      "Epoch 20/100\n",
      "38/38 [==============================] - 5s 135ms/step - loss: 0.0037\n",
      "Epoch 21/100\n",
      "38/38 [==============================] - 5s 135ms/step - loss: 0.0039\n",
      "Epoch 22/100\n",
      "38/38 [==============================] - 5s 140ms/step - loss: 0.0039\n",
      "Epoch 23/100\n",
      "38/38 [==============================] - 5s 135ms/step - loss: 0.0035\n",
      "Epoch 24/100\n",
      "38/38 [==============================] - 5s 135ms/step - loss: 0.0031\n",
      "Epoch 25/100\n",
      "38/38 [==============================] - 7s 180ms/step - loss: 0.0033\n",
      "Epoch 26/100\n",
      "38/38 [==============================] - 6s 154ms/step - loss: 0.0032\n",
      "Epoch 27/100\n",
      "38/38 [==============================] - 6s 168ms/step - loss: 0.0035\n",
      "Epoch 28/100\n",
      "38/38 [==============================] - 7s 173ms/step - loss: 0.0032\n",
      "Epoch 29/100\n",
      "38/38 [==============================] - 6s 160ms/step - loss: 0.0032\n",
      "Epoch 30/100\n",
      "38/38 [==============================] - 6s 168ms/step - loss: 0.0032\n",
      "Epoch 31/100\n",
      "38/38 [==============================] - 6s 163ms/step - loss: 0.0031\n",
      "Epoch 32/100\n",
      "38/38 [==============================] - 6s 170ms/step - loss: 0.0029\n",
      "Epoch 33/100\n",
      "38/38 [==============================] - 6s 155ms/step - loss: 0.0031\n",
      "Epoch 34/100\n",
      "38/38 [==============================] - 6s 148ms/step - loss: 0.0030\n",
      "Epoch 35/100\n",
      "38/38 [==============================] - 5s 139ms/step - loss: 0.0030\n",
      "Epoch 36/100\n",
      "38/38 [==============================] - 6s 149ms/step - loss: 0.0031\n",
      "Epoch 37/100\n",
      "38/38 [==============================] - 5s 144ms/step - loss: 0.0032\n",
      "Epoch 38/100\n",
      "38/38 [==============================] - 6s 154ms/step - loss: 0.0029\n",
      "Epoch 39/100\n",
      "38/38 [==============================] - 6s 151ms/step - loss: 0.0029\n",
      "Epoch 40/100\n",
      "38/38 [==============================] - 6s 146ms/step - loss: 0.0028\n",
      "Epoch 41/100\n",
      "38/38 [==============================] - 6s 150ms/step - loss: 0.0026\n",
      "Epoch 42/100\n",
      "38/38 [==============================] - 5s 137ms/step - loss: 0.0026\n",
      "Epoch 43/100\n",
      "38/38 [==============================] - 5s 144ms/step - loss: 0.0026\n",
      "Epoch 44/100\n",
      "38/38 [==============================] - 5s 142ms/step - loss: 0.0029\n",
      "Epoch 45/100\n",
      "38/38 [==============================] - 6s 145ms/step - loss: 0.0025\n",
      "Epoch 46/100\n",
      "38/38 [==============================] - 5s 134ms/step - loss: 0.0026\n",
      "Epoch 47/100\n",
      "38/38 [==============================] - 5s 138ms/step - loss: 0.0025\n",
      "Epoch 48/100\n",
      "38/38 [==============================] - 5s 142ms/step - loss: 0.0030\n",
      "Epoch 49/100\n",
      "38/38 [==============================] - 5s 144ms/step - loss: 0.0029\n",
      "Epoch 50/100\n",
      "38/38 [==============================] - 6s 148ms/step - loss: 0.0026\n",
      "Epoch 51/100\n",
      "38/38 [==============================] - 6s 152ms/step - loss: 0.0026\n",
      "Epoch 52/100\n",
      "38/38 [==============================] - 6s 145ms/step - loss: 0.0025\n",
      "Epoch 53/100\n",
      "38/38 [==============================] - 5s 142ms/step - loss: 0.0026\n",
      "Epoch 54/100\n",
      "38/38 [==============================] - 5s 136ms/step - loss: 0.0029\n",
      "Epoch 55/100\n",
      "38/38 [==============================] - 5s 141ms/step - loss: 0.0023\n",
      "Epoch 56/100\n",
      "38/38 [==============================] - 5s 142ms/step - loss: 0.0025\n",
      "Epoch 57/100\n",
      "38/38 [==============================] - 5s 141ms/step - loss: 0.0026\n",
      "Epoch 58/100\n",
      "38/38 [==============================] - 5s 140ms/step - loss: 0.0023\n",
      "Epoch 59/100\n",
      "38/38 [==============================] - 6s 145ms/step - loss: 0.0026\n",
      "Epoch 60/100\n",
      "38/38 [==============================] - 5s 139ms/step - loss: 0.0024\n",
      "Epoch 61/100\n",
      "38/38 [==============================] - 5s 141ms/step - loss: 0.0021\n",
      "Epoch 62/100\n",
      "38/38 [==============================] - 6s 149ms/step - loss: 0.0025\n",
      "Epoch 63/100\n",
      "38/38 [==============================] - 6s 145ms/step - loss: 0.0023\n",
      "Epoch 64/100\n",
      "38/38 [==============================] - 5s 143ms/step - loss: 0.0022\n",
      "Epoch 65/100\n",
      "38/38 [==============================] - 5s 138ms/step - loss: 0.0023\n",
      "Epoch 66/100\n",
      "38/38 [==============================] - 5s 133ms/step - loss: 0.0021\n",
      "Epoch 67/100\n",
      "38/38 [==============================] - 5s 139ms/step - loss: 0.0020\n",
      "Epoch 68/100\n",
      "38/38 [==============================] - 7s 193ms/step - loss: 0.0024\n",
      "Epoch 69/100\n",
      "38/38 [==============================] - 7s 175ms/step - loss: 0.0024\n",
      "Epoch 70/100\n",
      "38/38 [==============================] - 7s 182ms/step - loss: 0.0022\n",
      "Epoch 71/100\n",
      "38/38 [==============================] - 5s 141ms/step - loss: 0.0020\n",
      "Epoch 72/100\n",
      "38/38 [==============================] - 5s 142ms/step - loss: 0.0023\n",
      "Epoch 73/100\n",
      "38/38 [==============================] - 6s 170ms/step - loss: 0.0024\n",
      "Epoch 74/100\n",
      "38/38 [==============================] - 5s 135ms/step - loss: 0.0020\n",
      "Epoch 75/100\n",
      "38/38 [==============================] - 5s 141ms/step - loss: 0.0019\n",
      "Epoch 76/100\n",
      "38/38 [==============================] - 6s 163ms/step - loss: 0.0018\n",
      "Epoch 77/100\n",
      "38/38 [==============================] - 6s 150ms/step - loss: 0.0018\n",
      "Epoch 78/100\n",
      "38/38 [==============================] - 6s 151ms/step - loss: 0.0018\n",
      "Epoch 79/100\n",
      "38/38 [==============================] - 6s 145ms/step - loss: 0.0018\n",
      "Epoch 80/100\n",
      "38/38 [==============================] - 5s 143ms/step - loss: 0.0018\n",
      "Epoch 81/100\n",
      "38/38 [==============================] - 6s 150ms/step - loss: 0.0020\n",
      "Epoch 82/100\n",
      "38/38 [==============================] - 6s 147ms/step - loss: 0.0017\n",
      "Epoch 83/100\n",
      "38/38 [==============================] - 6s 152ms/step - loss: 0.0019\n",
      "Epoch 84/100\n",
      "38/38 [==============================] - 6s 151ms/step - loss: 0.0018\n",
      "Epoch 85/100\n",
      "38/38 [==============================] - 6s 146ms/step - loss: 0.0018\n",
      "Epoch 86/100\n",
      "38/38 [==============================] - 6s 145ms/step - loss: 0.0017\n",
      "Epoch 87/100\n",
      "38/38 [==============================] - 6s 149ms/step - loss: 0.0016\n",
      "Epoch 88/100\n",
      "38/38 [==============================] - 5s 143ms/step - loss: 0.0016\n",
      "Epoch 89/100\n",
      "38/38 [==============================] - 6s 151ms/step - loss: 0.0017\n",
      "Epoch 90/100\n",
      "38/38 [==============================] - 6s 159ms/step - loss: 0.0021\n",
      "Epoch 91/100\n",
      "38/38 [==============================] - 6s 146ms/step - loss: 0.0016\n",
      "Epoch 92/100\n",
      "38/38 [==============================] - 6s 147ms/step - loss: 0.0016\n",
      "Epoch 93/100\n",
      "38/38 [==============================] - 6s 145ms/step - loss: 0.0017\n",
      "Epoch 94/100\n",
      "38/38 [==============================] - 5s 144ms/step - loss: 0.0017\n",
      "Epoch 95/100\n",
      "38/38 [==============================] - 6s 150ms/step - loss: 0.0017\n",
      "Epoch 96/100\n",
      "38/38 [==============================] - 6s 147ms/step - loss: 0.0018\n",
      "Epoch 97/100\n",
      "38/38 [==============================] - 7s 181ms/step - loss: 0.0017\n",
      "Epoch 98/100\n",
      "38/38 [==============================] - 6s 168ms/step - loss: 0.0015\n",
      "Epoch 99/100\n",
      "38/38 [==============================] - 5s 139ms/step - loss: 0.0016\n",
      "Epoch 100/100\n",
      "38/38 [==============================] - 5s 137ms/step - loss: 0.0014\n"
     ]
    },
    {
     "data": {
      "text/plain": [
       "<keras.callbacks.History at 0x2b0aed7df10>"
      ]
     },
     "execution_count": 15,
     "metadata": {},
     "output_type": "execute_result"
    }
   ],
   "source": [
    "regressor.fit(X_train, y_train, epochs = 100, batch_size = 32)"
   ]
  },
  {
   "cell_type": "markdown",
   "metadata": {
    "id": "QvNvb2mDddUs"
   },
   "source": [
    "### Part 3 - Making the predictions and visualising the results"
   ]
  },
  {
   "cell_type": "markdown",
   "metadata": {
    "id": "BIk6PDvKddbG"
   },
   "source": [
    "### Getting the real stock price of 2017"
   ]
  },
  {
   "cell_type": "code",
   "execution_count": 16,
   "metadata": {
    "id": "VNVzQMd0dpb6"
   },
   "outputs": [],
   "source": [
    "dataset_test = pd.read_csv('Google_Stock_Price_Test.csv')\n",
    "real_stock_price = dataset_test.iloc[:, 1:2].values"
   ]
  },
  {
   "cell_type": "markdown",
   "metadata": {
    "id": "OABWhJLBdwrI"
   },
   "source": [
    "### Getting the predicted stock price of 2017"
   ]
  },
  {
   "cell_type": "code",
   "execution_count": 17,
   "metadata": {
    "id": "wHi0LvXVdxsJ"
   },
   "outputs": [
    {
     "name": "stdout",
     "output_type": "stream",
     "text": [
      "1/1 [==============================] - 5s 5s/step\n"
     ]
    }
   ],
   "source": [
    "dataset_total = pd.concat((dataset_train['Open'], dataset_test['Open']), axis = 0)\n",
    "inputs = dataset_total[len(dataset_total) - len(dataset_test) - 60:].values  #[lower bound: upper bound]\n",
    "#this will give us the stock price values of last 3 months and also of january\n",
    "inputs = inputs.reshape(-1,1)\n",
    "inputs = sc.transform(inputs)\n",
    "#if your data has a single feature or array.reshape(1, -1) if it contains a single sample.\n",
    "X_test = []\n",
    "for i in range(60, 80):\n",
    "    X_test.append(inputs[i-60:i, 0])\n",
    "X_test = np.array(X_test)\n",
    "X_test = np.reshape(X_test, (X_test.shape[0], X_test.shape[1], 1))\n",
    "predicted_stock_price = regressor.predict(X_test)\n",
    "predicted_stock_price = sc.inverse_transform(predicted_stock_price)"
   ]
  },
  {
   "cell_type": "markdown",
   "metadata": {
    "id": "kYq2atmKQA-F"
   },
   "source": [
    "## Visualising the results"
   ]
  },
  {
   "cell_type": "code",
   "execution_count": 18,
   "metadata": {
    "colab": {
     "base_uri": "https://localhost:8080/",
     "height": 295
    },
    "id": "7BszZ9-1P-iy",
    "outputId": "dcb2e79b-83e3-4d05-e738-2b25ca8822a6"
   },
   "outputs": [
    {
     "data": {
      "image/png": "[encoded data removed]",
      "text/plain": [
       "<Figure size 432x288 with 1 Axes>"
      ]
     },
     "metadata": {
      "needs_background": "light"
     },
     "output_type": "display_data"
    }
   ],
   "source": [
    "plt.plot(real_stock_price, color = 'red', label = 'Real Google Stock Price')\n",
    "plt.plot(predicted_stock_price, color = 'blue', label = 'Predicted Google Stock Price')\n",
    "plt.title('Google Stock Price Prediction')\n",
    "plt.xlabel('Time')\n",
    "plt.ylabel('Google Stock Price')\n",
    "plt.legend()\n",
    "plt.show()"
   ]
  },
  {
   "cell_type": "markdown",
   "metadata": {
    "id": "Y6LbV11Cd02S"
   },
   "source": [
    "## Evaluating RNN\n",
    "### Root Mean Squared Error"
   ]
  },
  {
   "cell_type": "code",
   "execution_count": 58,
   "metadata": {},
   "outputs": [
    {
     "data": {
      "text/plain": [
       "27.889938412661067"
      ]
     },
     "execution_count": 58,
     "metadata": {},
     "output_type": "execute_result"
    }
   ],
   "source": [
    "import math\n",
    "from sklearn.metrics import mean_squared_error\n",
    "math.sqrt(mean_squared_error(real_stock_price,predicted_stock_price))"
   ]
  },
  {
   "cell_type": "code",
   "execution_count": null,
   "metadata": {},
   "outputs": [],
   "source": []
  }
 ],
 "metadata": {
  "colab": {
   "collapsed_sections": [],
   "name": "Recurrent Neural Network  .ipynb",
   "provenance": []
  },
  "kernelspec": {
   "display_name": "Python 3",
   "language": "python",
   "name": "python3"
  },
  "language_info": {
   "codemirror_mode": {
    "name": "ipython",
    "version": 3
   },
   "file_extension": ".py",
   "mimetype": "text/x-python",
   "name": "python",
   "nbconvert_exporter": "python",
   "pygments_lexer": "ipython3",
   "version": "3.8.8"
  }
 },
 "nbformat": 4,
 "nbformat_minor": 1
}
